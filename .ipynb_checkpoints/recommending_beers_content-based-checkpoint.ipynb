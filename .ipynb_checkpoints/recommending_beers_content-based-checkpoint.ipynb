{
 "cells": [
  {
   "cell_type": "markdown",
   "metadata": {},
   "source": [
    "### Beer Reviews Dataset\n",
    "\n",
    "Please download the **[beer reviews](https://s3.amazonaws.com/demo-datasets/beer_reviews.tar.gz) dataset.**\n",
    "\n",
    "# Recommending Beers: A Content-Based Recommendation System\n",
    "\n",
    "### Objective\n",
    "\n",
    "**To recommend beers based on similarity of user profile to item profile (content-based recommender system)**\n",
    "\n",
    "### Steps\n",
    "\n",
    "  1. Map items and users into a feature space\n",
    "  1. Predicting ratings (or likes/dislikes) given the features\n",
    "  \n",
    "For this example, predictions of recommended or non-recommended items are calculated using either dot product and linear regression.\n",
    "  \n",
    "**Item Profile**\n",
    "![](figs/itemprofile.png)\n",
    "\n",
    "**User Profile**\n",
    "![](figs/userprofile.png)\n",
    "\n",
    "**Mapping User Profile (`u`) and Item Profile (`i`) in Feature Space**\n",
    "\n",
    "![](figs/map.png)\n",
    "\n",
    "***In this example, instead of using cosine similarity, we will be using dot product.***\n",
    "\n",
    "![](figs/dotproduct.png)\n",
    "\n",
    "***An alternate way of prediction shown here is by linear regression.***\n",
    "\n",
    "### Loading code and data "
   ]
  },
  {
   "cell_type": "code",
   "execution_count": 1,
   "metadata": {
    "collapsed": true
   },
   "outputs": [],
   "source": [
    "import numpy as np\n",
    "import pandas as pd\n",
    "from sklearn.linear_model import LinearRegression, Lasso, Ridge\n",
    "from sklearn.model_selection import cross_val_score, train_test_split\n",
    "from sklearn.feature_extraction.text import CountVectorizer\n",
    "from patsy import dmatrix\n",
    "import seaborn.apionly as sb\n",
    "from matplotlib import pyplot as plt\n",
    "%matplotlib inline"
   ]
  },
  {
   "cell_type": "code",
   "execution_count": 2,
   "metadata": {
    "collapsed": true
   },
   "outputs": [],
   "source": [
    "data = pd.read_csv(\"../recommendersystems_wids_prep/beer_reviews/beer_reviews.csv\")"
   ]
  },
  {
   "cell_type": "code",
   "execution_count": 3,
   "metadata": {},
   "outputs": [
    {
     "name": "stdout",
     "output_type": "stream",
     "text": [
      "<class 'pandas.core.frame.DataFrame'>\n",
      "RangeIndex: 1586614 entries, 0 to 1586613\n",
      "Data columns (total 13 columns):\n",
      "brewery_id            1586614 non-null int64\n",
      "brewery_name          1586599 non-null object\n",
      "review_time           1586614 non-null int64\n",
      "review_overall        1586614 non-null float64\n",
      "review_aroma          1586614 non-null float64\n",
      "review_appearance     1586614 non-null float64\n",
      "review_profilename    1586266 non-null object\n",
      "beer_style            1586614 non-null object\n",
      "review_palate         1586614 non-null float64\n",
      "review_taste          1586614 non-null float64\n",
      "beer_name             1586614 non-null object\n",
      "beer_abv              1518829 non-null float64\n",
      "beer_beerid           1586614 non-null int64\n",
      "dtypes: float64(6), int64(3), object(4)\n",
      "memory usage: 157.4+ MB\n"
     ]
    }
   ],
   "source": [
    "data.info()"
   ]
  },
  {
   "cell_type": "code",
   "execution_count": 4,
   "metadata": {},
   "outputs": [
    {
     "name": "stdout",
     "output_type": "stream",
     "text": [
      "We have 1586614 reviews for 66055 beers from 5840 breweries, by 33387 drinkers.\n"
     ]
    }
   ],
   "source": [
    "print \"We have {} reviews for {} beers from {} breweries, by {} drinkers.\".format(len(data), \n",
    "                                                                                 data.beer_beerid.nunique(), \n",
    "                                                                                 data.brewery_id.nunique(), \n",
    "                                                                                 data.review_profilename.nunique())"
   ]
  },
  {
   "cell_type": "markdown",
   "metadata": {},
   "source": [
    "**Truncate data to speed up calculations:**"
   ]
  },
  {
   "cell_type": "code",
   "execution_count": 5,
   "metadata": {},
   "outputs": [
    {
     "name": "stdout",
     "output_type": "stream",
     "text": [
      "We have 150000 reviews for 6420 beers from 589 breweries, by 13964 drinkers.\n"
     ]
    }
   ],
   "source": [
    "N = 150000\n",
    "data = data.iloc[:N]\n",
    "print \"We have {} reviews for {} beers from {} breweries, by {} drinkers.\".format(len(data), \n",
    "                                                                                  data.beer_beerid.nunique(), \n",
    "                                                                                  data.brewery_id.nunique(), \n",
    "                                                                                  data.review_profilename.nunique())"
   ]
  },
  {
   "cell_type": "code",
   "execution_count": 6,
   "metadata": {},
   "outputs": [
    {
     "data": {
      "text/html": [
       "<div>\n",
       "<table border=\"1\" class=\"dataframe\">\n",
       "  <thead>\n",
       "    <tr style=\"text-align: right;\">\n",
       "      <th></th>\n",
       "      <th>brewery_id</th>\n",
       "      <th>brewery_name</th>\n",
       "      <th>review_time</th>\n",
       "      <th>review_overall</th>\n",
       "      <th>review_aroma</th>\n",
       "      <th>review_appearance</th>\n",
       "      <th>review_profilename</th>\n",
       "      <th>beer_style</th>\n",
       "      <th>review_palate</th>\n",
       "      <th>review_taste</th>\n",
       "      <th>beer_name</th>\n",
       "      <th>beer_abv</th>\n",
       "      <th>beer_beerid</th>\n",
       "    </tr>\n",
       "  </thead>\n",
       "  <tbody>\n",
       "    <tr>\n",
       "      <th>0</th>\n",
       "      <td>10325</td>\n",
       "      <td>Vecchio Birraio</td>\n",
       "      <td>1234817823</td>\n",
       "      <td>1.5</td>\n",
       "      <td>2.0</td>\n",
       "      <td>2.5</td>\n",
       "      <td>stcules</td>\n",
       "      <td>Hefeweizen</td>\n",
       "      <td>1.5</td>\n",
       "      <td>1.5</td>\n",
       "      <td>Sausa Weizen</td>\n",
       "      <td>5.0</td>\n",
       "      <td>47986</td>\n",
       "    </tr>\n",
       "    <tr>\n",
       "      <th>1</th>\n",
       "      <td>10325</td>\n",
       "      <td>Vecchio Birraio</td>\n",
       "      <td>1235915097</td>\n",
       "      <td>3.0</td>\n",
       "      <td>2.5</td>\n",
       "      <td>3.0</td>\n",
       "      <td>stcules</td>\n",
       "      <td>English Strong Ale</td>\n",
       "      <td>3.0</td>\n",
       "      <td>3.0</td>\n",
       "      <td>Red Moon</td>\n",
       "      <td>6.2</td>\n",
       "      <td>48213</td>\n",
       "    </tr>\n",
       "    <tr>\n",
       "      <th>2</th>\n",
       "      <td>10325</td>\n",
       "      <td>Vecchio Birraio</td>\n",
       "      <td>1235916604</td>\n",
       "      <td>3.0</td>\n",
       "      <td>2.5</td>\n",
       "      <td>3.0</td>\n",
       "      <td>stcules</td>\n",
       "      <td>Foreign / Export Stout</td>\n",
       "      <td>3.0</td>\n",
       "      <td>3.0</td>\n",
       "      <td>Black Horse Black Beer</td>\n",
       "      <td>6.5</td>\n",
       "      <td>48215</td>\n",
       "    </tr>\n",
       "  </tbody>\n",
       "</table>\n",
       "</div>"
      ],
      "text/plain": [
       "   brewery_id     brewery_name  review_time  review_overall  review_aroma  \\\n",
       "0       10325  Vecchio Birraio   1234817823             1.5           2.0   \n",
       "1       10325  Vecchio Birraio   1235915097             3.0           2.5   \n",
       "2       10325  Vecchio Birraio   1235916604             3.0           2.5   \n",
       "\n",
       "   review_appearance review_profilename              beer_style  \\\n",
       "0                2.5            stcules              Hefeweizen   \n",
       "1                3.0            stcules      English Strong Ale   \n",
       "2                3.0            stcules  Foreign / Export Stout   \n",
       "\n",
       "   review_palate  review_taste               beer_name  beer_abv  beer_beerid  \n",
       "0            1.5           1.5            Sausa Weizen       5.0        47986  \n",
       "1            3.0           3.0                Red Moon       6.2        48213  \n",
       "2            3.0           3.0  Black Horse Black Beer       6.5        48215  "
      ]
     },
     "execution_count": 6,
     "metadata": {},
     "output_type": "execute_result"
    }
   ],
   "source": [
    "data.head(3)"
   ]
  },
  {
   "cell_type": "markdown",
   "metadata": {},
   "source": [
    "#### Data exploration\n",
    "\n",
    "Let's see per features how many categories we have."
   ]
  },
  {
   "cell_type": "code",
   "execution_count": 7,
   "metadata": {},
   "outputs": [
    {
     "name": "stdout",
     "output_type": "stream",
     "text": [
      "<class 'pandas.core.frame.DataFrame'>\n",
      "RangeIndex: 150000 entries, 0 to 149999\n",
      "Data columns (total 13 columns):\n",
      "brewery_id            150000 non-null int64\n",
      "brewery_name          150000 non-null object\n",
      "review_time           150000 non-null int64\n",
      "review_overall        150000 non-null float64\n",
      "review_aroma          150000 non-null float64\n",
      "review_appearance     150000 non-null float64\n",
      "review_profilename    149973 non-null object\n",
      "beer_style            150000 non-null object\n",
      "review_palate         150000 non-null float64\n",
      "review_taste          150000 non-null float64\n",
      "beer_name             150000 non-null object\n",
      "beer_abv              144889 non-null float64\n",
      "beer_beerid           150000 non-null int64\n",
      "dtypes: float64(6), int64(3), object(4)\n",
      "memory usage: 14.9+ MB\n"
     ]
    }
   ],
   "source": [
    "data.info()"
   ]
  },
  {
   "cell_type": "markdown",
   "metadata": {},
   "source": [
    "==> missing 'review_profilename' and 'beer_abv'"
   ]
  },
  {
   "cell_type": "code",
   "execution_count": 8,
   "metadata": {},
   "outputs": [
    {
     "name": "stdout",
     "output_type": "stream",
     "text": [
      "brewery_id          :     589 uniques\n",
      "brewery_name        :     589 uniques\n",
      "review_time         :  149904 uniques\n",
      "review_overall      :      10 uniques\n",
      "review_aroma        :       9 uniques\n",
      "review_appearance   :      10 uniques\n",
      "review_profilename  :   13964 uniques\n",
      "beer_style          :     102 uniques\n",
      "review_palate       :       9 uniques\n",
      "review_taste        :       9 uniques\n",
      "beer_name           :    6101 uniques\n",
      "beer_abv            :     177 uniques\n",
      "beer_beerid         :    6420 uniques\n"
     ]
    }
   ],
   "source": [
    "for col in data:\n",
    "    print \"{:20s}: {:7} uniques\".format(col, data[col].nunique())"
   ]
  },
  {
   "cell_type": "markdown",
   "metadata": {},
   "source": [
    "**USERS**\n",
    "\n",
    "`review_profilename` (there are 13964 users or reviewers)\n",
    "\n",
    "**ITEMS**\n",
    "\n",
    "`beer_beerid`  (there are 6420 beers reviewed)\n",
    "\n",
    "**FEATURES**\n",
    "\n",
    "- `brewery_id` (or `brewery_name`)\n",
    "- `beer_abv` (% alcohol)\n",
    "- `beer_style`\n",
    "\n",
    "**RATINGS**\n",
    "\n",
    "- `review_overall` (10 uniques -- rating goes from 1 to 5 (ratings are 0, 1, 1.5, 2, 2.5, etc., see beer rating distribution below.)\n",
    "\n",
    "*Other ratings can be used:*\n",
    "- `review_aroma`\n",
    "- `review_appearance`\n",
    "- `review_palate`\n",
    "- `review_taste`\n",
    "\n",
    "Since the beer names are not unique, we will use the beer IDs. \n",
    "\n",
    "**Create lookup table from `beer_beerid` to `beer_name` (to easily track the beer's name):**"
   ]
  },
  {
   "cell_type": "code",
   "execution_count": 9,
   "metadata": {
    "collapsed": true
   },
   "outputs": [],
   "source": [
    "beer_names = data.groupby('beer_beerid').beer_name.first()  # only one name per ID"
   ]
  },
  {
   "cell_type": "code",
   "execution_count": 10,
   "metadata": {},
   "outputs": [
    {
     "data": {
      "text/plain": [
       "beer_beerid\n",
       "3             Cactus Queen IPA\n",
       "4     Wildcatter's Crude Stout\n",
       "80         Organic Münster Alt\n",
       "81             Organic Ur Pils\n",
       "82         Organic Hefe-Weizen\n",
       "Name: beer_name, dtype: object"
      ]
     },
     "execution_count": 10,
     "metadata": {},
     "output_type": "execute_result"
    }
   ],
   "source": [
    "beer_names.head()"
   ]
  },
  {
   "cell_type": "markdown",
   "metadata": {},
   "source": [
    "**Distribution of beer rating:**"
   ]
  },
  {
   "cell_type": "code",
   "execution_count": 11,
   "metadata": {},
   "outputs": [
    {
     "data": {
      "image/png": "[encoded data removed]",
      "text/plain": [
       "<matplotlib.figure.Figure at 0x104805110>"
      ]
     },
     "metadata": {},
     "output_type": "display_data"
    }
   ],
   "source": [
    "sb.countplot(data.review_overall, color='steelblue')\n",
    "sb.despine();"
   ]
  },
  {
   "cell_type": "markdown",
   "metadata": {},
   "source": [
    "Also note that the beer-drinker reviews are not unique, as some people have filed multiple reviews per beer.  We generally take the average rating in such case."
   ]
  },
  {
   "cell_type": "code",
   "execution_count": 12,
   "metadata": {},
   "outputs": [
    {
     "data": {
      "text/plain": [
       "1    147421\n",
       "2       930\n",
       "3        13\n",
       "Name: review_overall, dtype: int64"
      ]
     },
     "execution_count": 12,
     "metadata": {},
     "output_type": "execute_result"
    }
   ],
   "source": [
    "n_reviews = data.groupby(['beer_beerid', 'review_profilename']).review_overall.nunique()\n",
    "n_reviews.value_counts()"
   ]
  },
  {
   "cell_type": "markdown",
   "metadata": {},
   "source": [
    "### Create feature matrix (or item profile)\n",
    "\n",
    "==> `beer_features` matrix\n",
    "\n",
    "![](figs/beerprofile.png)\n",
    "\n",
    "#### `beer_abv`\n",
    "\n",
    "We will categorize the `beer_abv` feature into bins.\n",
    "\n",
    "Currently, there are 177 unique values for `beer_abv`:"
   ]
  },
  {
   "cell_type": "code",
   "execution_count": 13,
   "metadata": {},
   "outputs": [
    {
     "data": {
      "text/plain": [
       "177"
      ]
     },
     "execution_count": 13,
     "metadata": {},
     "output_type": "execute_result"
    }
   ],
   "source": [
    "data.beer_abv.nunique()"
   ]
  },
  {
   "cell_type": "markdown",
   "metadata": {},
   "source": [
    "To categorize the `beer_abv` values:\n",
    "\n",
    "1. round off to whole values\n",
    "2. bin values lower or equal to 4 to 4 and values greater than or equal to 10 to 10\n",
    "3. leave values between 4 and 10 as is\n",
    "4. convert values into strings (to prepare for patsy)"
   ]
  },
  {
   "cell_type": "code",
   "execution_count": 14,
   "metadata": {
    "collapsed": true
   },
   "outputs": [],
   "source": [
    "min_bin, max_bin = 4, 10\n",
    "abv = data.beer_abv.round()"
   ]
  },
  {
   "cell_type": "code",
   "execution_count": 15,
   "metadata": {
    "collapsed": true
   },
   "outputs": [],
   "source": [
    "abv[abv <= min_bin] = min_bin"
   ]
  },
  {
   "cell_type": "code",
   "execution_count": 16,
   "metadata": {
    "collapsed": true
   },
   "outputs": [],
   "source": [
    "abv[abv >= max_bin] = max_bin"
   ]
  },
  {
   "cell_type": "code",
   "execution_count": 17,
   "metadata": {},
   "outputs": [
    {
     "data": {
      "text/plain": [
       "array([  5.,   6.,   8.,   4.,   7.,  nan,   9.,  10.])"
      ]
     },
     "execution_count": 17,
     "metadata": {},
     "output_type": "execute_result"
    }
   ],
   "source": [
    "abv.unique()"
   ]
  },
  {
   "cell_type": "markdown",
   "metadata": {},
   "source": [
    "**Distribution before binning:**"
   ]
  },
  {
   "cell_type": "code",
   "execution_count": 18,
   "metadata": {},
   "outputs": [
    {
     "data": {
      "image/png": "[encoded data removed]",
      "text/plain": [
       "<matplotlib.figure.Figure at 0x115a61690>"
      ]
     },
     "metadata": {},
     "output_type": "display_data"
    }
   ],
   "source": [
    "sb.countplot(data.beer_abv, color='blue')\n",
    "sb.despine();"
   ]
  },
  {
   "cell_type": "markdown",
   "metadata": {},
   "source": [
    "**Distrubution after binning:**"
   ]
  },
  {
   "cell_type": "code",
   "execution_count": 19,
   "metadata": {},
   "outputs": [
    {
     "data": {
      "image/png": "[encoded data removed]",
      "text/plain": [
       "<matplotlib.figure.Figure at 0x115dd3910>"
      ]
     },
     "metadata": {},
     "output_type": "display_data"
    }
   ],
   "source": [
    "sb.countplot(abv, color='blue')\n",
    "sb.despine();"
   ]
  },
  {
   "cell_type": "markdown",
   "metadata": {},
   "source": [
    "We convert numerical values to strings, so patsy will treat them as categorical features"
   ]
  },
  {
   "cell_type": "code",
   "execution_count": 20,
   "metadata": {
    "collapsed": true
   },
   "outputs": [],
   "source": [
    "data['beer_abv_cat'] = abv.dropna().astype(int).astype(str)"
   ]
  },
  {
   "cell_type": "markdown",
   "metadata": {},
   "source": [
    "**`brewery_id`**"
   ]
  },
  {
   "cell_type": "code",
   "execution_count": 21,
   "metadata": {
    "collapsed": true
   },
   "outputs": [],
   "source": [
    "data['brewery_id_str'] = data.brewery_id.astype(str)"
   ]
  },
  {
   "cell_type": "markdown",
   "metadata": {},
   "source": [
    "**Use `dmatrix` to create a design matrix:**\n",
    "\n",
    "To learn more about patsy.dmatrix, see http://patsy.readthedocs.io/en/latest/"
   ]
  },
  {
   "cell_type": "code",
   "execution_count": 22,
   "metadata": {
    "collapsed": true
   },
   "outputs": [],
   "source": [
    "X_abv_brew = dmatrix('beer_abv_cat + brewery_id_str', data=data.fillna(0), return_type='dataframe')"
   ]
  },
  {
   "cell_type": "code",
   "execution_count": 23,
   "metadata": {},
   "outputs": [
    {
     "data": {
      "text/plain": [
       "(150000, 596)"
      ]
     },
     "execution_count": 23,
     "metadata": {},
     "output_type": "execute_result"
    }
   ],
   "source": [
    "X_abv_brew.shape"
   ]
  },
  {
   "cell_type": "code",
   "execution_count": 24,
   "metadata": {},
   "outputs": [
    {
     "data": {
      "text/html": [
       "<div>\n",
       "<table border=\"1\" class=\"dataframe\">\n",
       "  <thead>\n",
       "    <tr style=\"text-align: right;\">\n",
       "      <th></th>\n",
       "      <th>Intercept</th>\n",
       "      <th>beer_abv_cat[T.10]</th>\n",
       "      <th>beer_abv_cat[T.4]</th>\n",
       "      <th>beer_abv_cat[T.5]</th>\n",
       "      <th>beer_abv_cat[T.6]</th>\n",
       "      <th>beer_abv_cat[T.7]</th>\n",
       "      <th>beer_abv_cat[T.8]</th>\n",
       "      <th>beer_abv_cat[T.9]</th>\n",
       "      <th>brewery_id_str[T.10101]</th>\n",
       "      <th>brewery_id_str[T.10103]</th>\n",
       "      <th>...</th>\n",
       "      <th>brewery_id_str[T.9483]</th>\n",
       "      <th>brewery_id_str[T.954]</th>\n",
       "      <th>brewery_id_str[T.9608]</th>\n",
       "      <th>brewery_id_str[T.9645]</th>\n",
       "      <th>brewery_id_str[T.971]</th>\n",
       "      <th>brewery_id_str[T.9729]</th>\n",
       "      <th>brewery_id_str[T.9734]</th>\n",
       "      <th>brewery_id_str[T.9816]</th>\n",
       "      <th>brewery_id_str[T.9827]</th>\n",
       "      <th>brewery_id_str[T.9932]</th>\n",
       "    </tr>\n",
       "  </thead>\n",
       "  <tbody>\n",
       "    <tr>\n",
       "      <th>0</th>\n",
       "      <td>1.0</td>\n",
       "      <td>0.0</td>\n",
       "      <td>0.0</td>\n",
       "      <td>1.0</td>\n",
       "      <td>0.0</td>\n",
       "      <td>0.0</td>\n",
       "      <td>0.0</td>\n",
       "      <td>0.0</td>\n",
       "      <td>0.0</td>\n",
       "      <td>0.0</td>\n",
       "      <td>...</td>\n",
       "      <td>0.0</td>\n",
       "      <td>0.0</td>\n",
       "      <td>0.0</td>\n",
       "      <td>0.0</td>\n",
       "      <td>0.0</td>\n",
       "      <td>0.0</td>\n",
       "      <td>0.0</td>\n",
       "      <td>0.0</td>\n",
       "      <td>0.0</td>\n",
       "      <td>0.0</td>\n",
       "    </tr>\n",
       "    <tr>\n",
       "      <th>1</th>\n",
       "      <td>1.0</td>\n",
       "      <td>0.0</td>\n",
       "      <td>0.0</td>\n",
       "      <td>0.0</td>\n",
       "      <td>1.0</td>\n",
       "      <td>0.0</td>\n",
       "      <td>0.0</td>\n",
       "      <td>0.0</td>\n",
       "      <td>0.0</td>\n",
       "      <td>0.0</td>\n",
       "      <td>...</td>\n",
       "      <td>0.0</td>\n",
       "      <td>0.0</td>\n",
       "      <td>0.0</td>\n",
       "      <td>0.0</td>\n",
       "      <td>0.0</td>\n",
       "      <td>0.0</td>\n",
       "      <td>0.0</td>\n",
       "      <td>0.0</td>\n",
       "      <td>0.0</td>\n",
       "      <td>0.0</td>\n",
       "    </tr>\n",
       "    <tr>\n",
       "      <th>2</th>\n",
       "      <td>1.0</td>\n",
       "      <td>0.0</td>\n",
       "      <td>0.0</td>\n",
       "      <td>0.0</td>\n",
       "      <td>1.0</td>\n",
       "      <td>0.0</td>\n",
       "      <td>0.0</td>\n",
       "      <td>0.0</td>\n",
       "      <td>0.0</td>\n",
       "      <td>0.0</td>\n",
       "      <td>...</td>\n",
       "      <td>0.0</td>\n",
       "      <td>0.0</td>\n",
       "      <td>0.0</td>\n",
       "      <td>0.0</td>\n",
       "      <td>0.0</td>\n",
       "      <td>0.0</td>\n",
       "      <td>0.0</td>\n",
       "      <td>0.0</td>\n",
       "      <td>0.0</td>\n",
       "      <td>0.0</td>\n",
       "    </tr>\n",
       "    <tr>\n",
       "      <th>3</th>\n",
       "      <td>1.0</td>\n",
       "      <td>0.0</td>\n",
       "      <td>0.0</td>\n",
       "      <td>1.0</td>\n",
       "      <td>0.0</td>\n",
       "      <td>0.0</td>\n",
       "      <td>0.0</td>\n",
       "      <td>0.0</td>\n",
       "      <td>0.0</td>\n",
       "      <td>0.0</td>\n",
       "      <td>...</td>\n",
       "      <td>0.0</td>\n",
       "      <td>0.0</td>\n",
       "      <td>0.0</td>\n",
       "      <td>0.0</td>\n",
       "      <td>0.0</td>\n",
       "      <td>0.0</td>\n",
       "      <td>0.0</td>\n",
       "      <td>0.0</td>\n",
       "      <td>0.0</td>\n",
       "      <td>0.0</td>\n",
       "    </tr>\n",
       "    <tr>\n",
       "      <th>4</th>\n",
       "      <td>1.0</td>\n",
       "      <td>0.0</td>\n",
       "      <td>0.0</td>\n",
       "      <td>0.0</td>\n",
       "      <td>0.0</td>\n",
       "      <td>0.0</td>\n",
       "      <td>1.0</td>\n",
       "      <td>0.0</td>\n",
       "      <td>0.0</td>\n",
       "      <td>0.0</td>\n",
       "      <td>...</td>\n",
       "      <td>0.0</td>\n",
       "      <td>0.0</td>\n",
       "      <td>0.0</td>\n",
       "      <td>0.0</td>\n",
       "      <td>0.0</td>\n",
       "      <td>0.0</td>\n",
       "      <td>0.0</td>\n",
       "      <td>0.0</td>\n",
       "      <td>0.0</td>\n",
       "      <td>0.0</td>\n",
       "    </tr>\n",
       "  </tbody>\n",
       "</table>\n",
       "<p>5 rows × 596 columns</p>\n",
       "</div>"
      ],
      "text/plain": [
       "   Intercept  beer_abv_cat[T.10]  beer_abv_cat[T.4]  beer_abv_cat[T.5]  \\\n",
       "0        1.0                 0.0                0.0                1.0   \n",
       "1        1.0                 0.0                0.0                0.0   \n",
       "2        1.0                 0.0                0.0                0.0   \n",
       "3        1.0                 0.0                0.0                1.0   \n",
       "4        1.0                 0.0                0.0                0.0   \n",
       "\n",
       "   beer_abv_cat[T.6]  beer_abv_cat[T.7]  beer_abv_cat[T.8]  beer_abv_cat[T.9]  \\\n",
       "0                0.0                0.0                0.0                0.0   \n",
       "1                1.0                0.0                0.0                0.0   \n",
       "2                1.0                0.0                0.0                0.0   \n",
       "3                0.0                0.0                0.0                0.0   \n",
       "4                0.0                0.0                1.0                0.0   \n",
       "\n",
       "   brewery_id_str[T.10101]  brewery_id_str[T.10103]           ...            \\\n",
       "0                      0.0                      0.0           ...             \n",
       "1                      0.0                      0.0           ...             \n",
       "2                      0.0                      0.0           ...             \n",
       "3                      0.0                      0.0           ...             \n",
       "4                      0.0                      0.0           ...             \n",
       "\n",
       "   brewery_id_str[T.9483]  brewery_id_str[T.954]  brewery_id_str[T.9608]  \\\n",
       "0                     0.0                    0.0                     0.0   \n",
       "1                     0.0                    0.0                     0.0   \n",
       "2                     0.0                    0.0                     0.0   \n",
       "3                     0.0                    0.0                     0.0   \n",
       "4                     0.0                    0.0                     0.0   \n",
       "\n",
       "   brewery_id_str[T.9645]  brewery_id_str[T.971]  brewery_id_str[T.9729]  \\\n",
       "0                     0.0                    0.0                     0.0   \n",
       "1                     0.0                    0.0                     0.0   \n",
       "2                     0.0                    0.0                     0.0   \n",
       "3                     0.0                    0.0                     0.0   \n",
       "4                     0.0                    0.0                     0.0   \n",
       "\n",
       "   brewery_id_str[T.9734]  brewery_id_str[T.9816]  brewery_id_str[T.9827]  \\\n",
       "0                     0.0                     0.0                     0.0   \n",
       "1                     0.0                     0.0                     0.0   \n",
       "2                     0.0                     0.0                     0.0   \n",
       "3                     0.0                     0.0                     0.0   \n",
       "4                     0.0                     0.0                     0.0   \n",
       "\n",
       "   brewery_id_str[T.9932]  \n",
       "0                     0.0  \n",
       "1                     0.0  \n",
       "2                     0.0  \n",
       "3                     0.0  \n",
       "4                     0.0  \n",
       "\n",
       "[5 rows x 596 columns]"
      ]
     },
     "execution_count": 24,
     "metadata": {},
     "output_type": "execute_result"
    }
   ],
   "source": [
    "X_abv_brew.head()"
   ]
  },
  {
   "cell_type": "markdown",
   "metadata": {},
   "source": [
    "**`beer_style`**\n",
    "\n",
    "Let's use each word in the beer style as a feature as well (e.g., \"IPA\") using the 'bag-of-words' representation."
   ]
  },
  {
   "cell_type": "code",
   "execution_count": 25,
   "metadata": {
    "collapsed": true
   },
   "outputs": [],
   "source": [
    "max_features = 5000\n",
    "cv = CountVectorizer(max_features=max_features)\n",
    "X_style = cv.fit_transform(data.beer_style)"
   ]
  },
  {
   "cell_type": "code",
   "execution_count": 26,
   "metadata": {},
   "outputs": [
    {
     "data": {
      "text/plain": [
       "<150000x120 sparse matrix of type '<type 'numpy.int64'>'\n",
       "\twith 416728 stored elements in Compressed Sparse Row format>"
      ]
     },
     "execution_count": 26,
     "metadata": {},
     "output_type": "execute_result"
    }
   ],
   "source": [
    "X_style"
   ]
  },
  {
   "cell_type": "markdown",
   "metadata": {},
   "source": [
    "At this point we have:\n",
    "- `beer_abv_cat` (7 features, in `X_abv_brew`)\n",
    "- `beer_beerid_cat` (589 features, in `X_abv_brew`)\n",
    "- `beer_style` (120 features, in `X_style` matrix)\n",
    "\n",
    "==> a total of 716 features!\n",
    "\n",
    "##### Putting all the features together to create the feature matrix (item profile)"
   ]
  },
  {
   "cell_type": "code",
   "execution_count": 27,
   "metadata": {
    "collapsed": true
   },
   "outputs": [],
   "source": [
    "X = np.hstack([X_abv_brew, X_style.toarray()])\n",
    "y = data.review_overall\n",
    "n_samples, n_features = X.shape"
   ]
  },
  {
   "cell_type": "markdown",
   "metadata": {},
   "source": [
    "**Now, we have a feature matrix $X$ with ratings in $y$, containing both beers and drinkers.**\n",
    "\n",
    "Since the features only describe beer characteristics, each beer entry in $X$ has the same values for the same beer. So we can just take a beer's first occurence for its representation."
   ]
  },
  {
   "cell_type": "code",
   "execution_count": 28,
   "metadata": {},
   "outputs": [
    {
     "name": "stdout",
     "output_type": "stream",
     "text": [
      "(6420, 716)\n"
     ]
    },
    {
     "data": {
      "text/html": [
       "<div>\n",
       "<table border=\"1\" class=\"dataframe\">\n",
       "  <thead>\n",
       "    <tr style=\"text-align: right;\">\n",
       "      <th></th>\n",
       "      <th>0</th>\n",
       "      <th>1</th>\n",
       "      <th>2</th>\n",
       "      <th>3</th>\n",
       "      <th>4</th>\n",
       "      <th>5</th>\n",
       "      <th>6</th>\n",
       "      <th>7</th>\n",
       "      <th>8</th>\n",
       "      <th>9</th>\n",
       "      <th>...</th>\n",
       "      <th>706</th>\n",
       "      <th>707</th>\n",
       "      <th>708</th>\n",
       "      <th>709</th>\n",
       "      <th>710</th>\n",
       "      <th>711</th>\n",
       "      <th>712</th>\n",
       "      <th>713</th>\n",
       "      <th>714</th>\n",
       "      <th>715</th>\n",
       "    </tr>\n",
       "    <tr>\n",
       "      <th>beer_beerid</th>\n",
       "      <th></th>\n",
       "      <th></th>\n",
       "      <th></th>\n",
       "      <th></th>\n",
       "      <th></th>\n",
       "      <th></th>\n",
       "      <th></th>\n",
       "      <th></th>\n",
       "      <th></th>\n",
       "      <th></th>\n",
       "      <th></th>\n",
       "      <th></th>\n",
       "      <th></th>\n",
       "      <th></th>\n",
       "      <th></th>\n",
       "      <th></th>\n",
       "      <th></th>\n",
       "      <th></th>\n",
       "      <th></th>\n",
       "      <th></th>\n",
       "      <th></th>\n",
       "    </tr>\n",
       "  </thead>\n",
       "  <tbody>\n",
       "    <tr>\n",
       "      <th>3</th>\n",
       "      <td>1.0</td>\n",
       "      <td>0.0</td>\n",
       "      <td>0.0</td>\n",
       "      <td>0.0</td>\n",
       "      <td>0.0</td>\n",
       "      <td>0.0</td>\n",
       "      <td>0.0</td>\n",
       "      <td>0.0</td>\n",
       "      <td>0.0</td>\n",
       "      <td>0.0</td>\n",
       "      <td>...</td>\n",
       "      <td>0.0</td>\n",
       "      <td>0.0</td>\n",
       "      <td>0.0</td>\n",
       "      <td>0.0</td>\n",
       "      <td>0.0</td>\n",
       "      <td>0.0</td>\n",
       "      <td>0.0</td>\n",
       "      <td>0.0</td>\n",
       "      <td>0.0</td>\n",
       "      <td>0.0</td>\n",
       "    </tr>\n",
       "    <tr>\n",
       "      <th>4</th>\n",
       "      <td>1.0</td>\n",
       "      <td>0.0</td>\n",
       "      <td>0.0</td>\n",
       "      <td>0.0</td>\n",
       "      <td>0.0</td>\n",
       "      <td>0.0</td>\n",
       "      <td>0.0</td>\n",
       "      <td>0.0</td>\n",
       "      <td>0.0</td>\n",
       "      <td>0.0</td>\n",
       "      <td>...</td>\n",
       "      <td>0.0</td>\n",
       "      <td>0.0</td>\n",
       "      <td>0.0</td>\n",
       "      <td>0.0</td>\n",
       "      <td>0.0</td>\n",
       "      <td>0.0</td>\n",
       "      <td>0.0</td>\n",
       "      <td>0.0</td>\n",
       "      <td>0.0</td>\n",
       "      <td>0.0</td>\n",
       "    </tr>\n",
       "  </tbody>\n",
       "</table>\n",
       "<p>2 rows × 716 columns</p>\n",
       "</div>"
      ],
      "text/plain": [
       "             0    1    2    3    4    5    6    7    8    9   ...   706  707  \\\n",
       "beer_beerid                                                   ...              \n",
       "3            1.0  0.0  0.0  0.0  0.0  0.0  0.0  0.0  0.0  0.0 ...   0.0  0.0   \n",
       "4            1.0  0.0  0.0  0.0  0.0  0.0  0.0  0.0  0.0  0.0 ...   0.0  0.0   \n",
       "\n",
       "             708  709  710  711  712  713  714  715  \n",
       "beer_beerid                                          \n",
       "3            0.0  0.0  0.0  0.0  0.0  0.0  0.0  0.0  \n",
       "4            0.0  0.0  0.0  0.0  0.0  0.0  0.0  0.0  \n",
       "\n",
       "[2 rows x 716 columns]"
      ]
     },
     "execution_count": 28,
     "metadata": {},
     "output_type": "execute_result"
    }
   ],
   "source": [
    "uniques, idx = np.unique(data.beer_beerid, return_index=True)\n",
    "beer_features = pd.DataFrame(X[idx, :], index=data.beer_beerid[idx])\n",
    "print beer_features.shape\n",
    "beer_features.head(2)"
   ]
  },
  {
   "cell_type": "markdown",
   "metadata": {},
   "source": [
    "(Recall that we 6420 unique beers, see data exploration part above.)\n",
    "\n",
    "**`beer_features` matrix is a sparse matrix composed of 1's and 0's with 6420 items and 716 features**\n",
    "\n",
    "### Create user profile\n",
    "\n",
    "==> `reviewer_features`\n",
    "\n",
    "![](figs/beerreviewerprofile.png)\n",
    "\n",
    "Note that the features for this matrix should be the same as the feature matrix.\n",
    "\n",
    "**Steps:**\n",
    "\n",
    "- Use feature matrix `X` created above and broadcast the reviewer ratings into it.\n",
    "\n",
    "For example,\n",
    "\n",
    "            low-abv  high-abv  IPA  Stout  Pilsner rating  reviewer\n",
    "    beer 1     1        0       0     0       1     2.0    reviewer1\n",
    "    beer 2     0        1       1     0       0     4.5    reviewer2\n",
    "    \n",
    "...will become...\n",
    "\n",
    "            low-abv  high-abv  IPA  Stout  Pilsner  reviewer\n",
    "    beer 1    2.0       0       0     0      2.0       reviewer1\n",
    "    beer 2     0       4.5     4.5    0       0        reviewer2\n",
    "    \n",
    "- Average all ratings per user to get a user profile. Also, subtract 3 from each rating, so bad ratings are negative and good ratings are positive This is to compensate for all missing entries, which will automatically get a zero-rating (and are now rated as average, instead of terribly bad)."
   ]
  },
  {
   "cell_type": "code",
   "execution_count": 29,
   "metadata": {
    "collapsed": true
   },
   "outputs": [],
   "source": [
    "reviewer_features = pd.DataFrame(X * (data.review_overall.values - 3).reshape(n_samples, 1))"
   ]
  },
  {
   "cell_type": "code",
   "execution_count": 30,
   "metadata": {},
   "outputs": [
    {
     "data": {
      "text/html": [
       "<div>\n",
       "<table border=\"1\" class=\"dataframe\">\n",
       "  <thead>\n",
       "    <tr style=\"text-align: right;\">\n",
       "      <th></th>\n",
       "      <th>0</th>\n",
       "      <th>1</th>\n",
       "      <th>2</th>\n",
       "      <th>3</th>\n",
       "      <th>4</th>\n",
       "      <th>5</th>\n",
       "      <th>6</th>\n",
       "      <th>7</th>\n",
       "      <th>8</th>\n",
       "      <th>9</th>\n",
       "      <th>...</th>\n",
       "      <th>706</th>\n",
       "      <th>707</th>\n",
       "      <th>708</th>\n",
       "      <th>709</th>\n",
       "      <th>710</th>\n",
       "      <th>711</th>\n",
       "      <th>712</th>\n",
       "      <th>713</th>\n",
       "      <th>714</th>\n",
       "      <th>715</th>\n",
       "    </tr>\n",
       "  </thead>\n",
       "  <tbody>\n",
       "    <tr>\n",
       "      <th>0</th>\n",
       "      <td>-1.5</td>\n",
       "      <td>-0.0</td>\n",
       "      <td>-0.0</td>\n",
       "      <td>-1.5</td>\n",
       "      <td>-0.0</td>\n",
       "      <td>-0.0</td>\n",
       "      <td>-0.0</td>\n",
       "      <td>-0.0</td>\n",
       "      <td>-0.0</td>\n",
       "      <td>-0.0</td>\n",
       "      <td>...</td>\n",
       "      <td>-0.0</td>\n",
       "      <td>-0.0</td>\n",
       "      <td>-0.0</td>\n",
       "      <td>-0.0</td>\n",
       "      <td>-0.0</td>\n",
       "      <td>-0.0</td>\n",
       "      <td>-0.0</td>\n",
       "      <td>-0.0</td>\n",
       "      <td>-0.0</td>\n",
       "      <td>-0.0</td>\n",
       "    </tr>\n",
       "    <tr>\n",
       "      <th>1</th>\n",
       "      <td>0.0</td>\n",
       "      <td>0.0</td>\n",
       "      <td>0.0</td>\n",
       "      <td>0.0</td>\n",
       "      <td>0.0</td>\n",
       "      <td>0.0</td>\n",
       "      <td>0.0</td>\n",
       "      <td>0.0</td>\n",
       "      <td>0.0</td>\n",
       "      <td>0.0</td>\n",
       "      <td>...</td>\n",
       "      <td>0.0</td>\n",
       "      <td>0.0</td>\n",
       "      <td>0.0</td>\n",
       "      <td>0.0</td>\n",
       "      <td>0.0</td>\n",
       "      <td>0.0</td>\n",
       "      <td>0.0</td>\n",
       "      <td>0.0</td>\n",
       "      <td>0.0</td>\n",
       "      <td>0.0</td>\n",
       "    </tr>\n",
       "    <tr>\n",
       "      <th>2</th>\n",
       "      <td>0.0</td>\n",
       "      <td>0.0</td>\n",
       "      <td>0.0</td>\n",
       "      <td>0.0</td>\n",
       "      <td>0.0</td>\n",
       "      <td>0.0</td>\n",
       "      <td>0.0</td>\n",
       "      <td>0.0</td>\n",
       "      <td>0.0</td>\n",
       "      <td>0.0</td>\n",
       "      <td>...</td>\n",
       "      <td>0.0</td>\n",
       "      <td>0.0</td>\n",
       "      <td>0.0</td>\n",
       "      <td>0.0</td>\n",
       "      <td>0.0</td>\n",
       "      <td>0.0</td>\n",
       "      <td>0.0</td>\n",
       "      <td>0.0</td>\n",
       "      <td>0.0</td>\n",
       "      <td>0.0</td>\n",
       "    </tr>\n",
       "    <tr>\n",
       "      <th>3</th>\n",
       "      <td>0.0</td>\n",
       "      <td>0.0</td>\n",
       "      <td>0.0</td>\n",
       "      <td>0.0</td>\n",
       "      <td>0.0</td>\n",
       "      <td>0.0</td>\n",
       "      <td>0.0</td>\n",
       "      <td>0.0</td>\n",
       "      <td>0.0</td>\n",
       "      <td>0.0</td>\n",
       "      <td>...</td>\n",
       "      <td>0.0</td>\n",
       "      <td>0.0</td>\n",
       "      <td>0.0</td>\n",
       "      <td>0.0</td>\n",
       "      <td>0.0</td>\n",
       "      <td>0.0</td>\n",
       "      <td>0.0</td>\n",
       "      <td>0.0</td>\n",
       "      <td>0.0</td>\n",
       "      <td>0.0</td>\n",
       "    </tr>\n",
       "    <tr>\n",
       "      <th>4</th>\n",
       "      <td>1.0</td>\n",
       "      <td>0.0</td>\n",
       "      <td>0.0</td>\n",
       "      <td>0.0</td>\n",
       "      <td>0.0</td>\n",
       "      <td>0.0</td>\n",
       "      <td>1.0</td>\n",
       "      <td>0.0</td>\n",
       "      <td>0.0</td>\n",
       "      <td>0.0</td>\n",
       "      <td>...</td>\n",
       "      <td>0.0</td>\n",
       "      <td>0.0</td>\n",
       "      <td>0.0</td>\n",
       "      <td>0.0</td>\n",
       "      <td>0.0</td>\n",
       "      <td>0.0</td>\n",
       "      <td>0.0</td>\n",
       "      <td>0.0</td>\n",
       "      <td>0.0</td>\n",
       "      <td>0.0</td>\n",
       "    </tr>\n",
       "  </tbody>\n",
       "</table>\n",
       "<p>5 rows × 716 columns</p>\n",
       "</div>"
      ],
      "text/plain": [
       "   0    1    2    3    4    5    6    7    8    9   ...   706  707  708  709  \\\n",
       "0 -1.5 -0.0 -0.0 -1.5 -0.0 -0.0 -0.0 -0.0 -0.0 -0.0 ...  -0.0 -0.0 -0.0 -0.0   \n",
       "1  0.0  0.0  0.0  0.0  0.0  0.0  0.0  0.0  0.0  0.0 ...   0.0  0.0  0.0  0.0   \n",
       "2  0.0  0.0  0.0  0.0  0.0  0.0  0.0  0.0  0.0  0.0 ...   0.0  0.0  0.0  0.0   \n",
       "3  0.0  0.0  0.0  0.0  0.0  0.0  0.0  0.0  0.0  0.0 ...   0.0  0.0  0.0  0.0   \n",
       "4  1.0  0.0  0.0  0.0  0.0  0.0  1.0  0.0  0.0  0.0 ...   0.0  0.0  0.0  0.0   \n",
       "\n",
       "   710  711  712  713  714  715  \n",
       "0 -0.0 -0.0 -0.0 -0.0 -0.0 -0.0  \n",
       "1  0.0  0.0  0.0  0.0  0.0  0.0  \n",
       "2  0.0  0.0  0.0  0.0  0.0  0.0  \n",
       "3  0.0  0.0  0.0  0.0  0.0  0.0  \n",
       "4  0.0  0.0  0.0  0.0  0.0  0.0  \n",
       "\n",
       "[5 rows x 716 columns]"
      ]
     },
     "execution_count": 30,
     "metadata": {},
     "output_type": "execute_result"
    }
   ],
   "source": [
    "reviewer_features.head()"
   ]
  },
  {
   "cell_type": "code",
   "execution_count": 31,
   "metadata": {
    "collapsed": true
   },
   "outputs": [],
   "source": [
    "reviewer_features['review_profilename'] = data.review_profilename"
   ]
  },
  {
   "cell_type": "code",
   "execution_count": 32,
   "metadata": {},
   "outputs": [
    {
     "data": {
      "text/html": [
       "<div>\n",
       "<table border=\"1\" class=\"dataframe\">\n",
       "  <thead>\n",
       "    <tr style=\"text-align: right;\">\n",
       "      <th></th>\n",
       "      <th>0</th>\n",
       "      <th>1</th>\n",
       "      <th>2</th>\n",
       "      <th>3</th>\n",
       "      <th>4</th>\n",
       "      <th>5</th>\n",
       "      <th>6</th>\n",
       "      <th>7</th>\n",
       "      <th>8</th>\n",
       "      <th>9</th>\n",
       "      <th>...</th>\n",
       "      <th>707</th>\n",
       "      <th>708</th>\n",
       "      <th>709</th>\n",
       "      <th>710</th>\n",
       "      <th>711</th>\n",
       "      <th>712</th>\n",
       "      <th>713</th>\n",
       "      <th>714</th>\n",
       "      <th>715</th>\n",
       "      <th>review_profilename</th>\n",
       "    </tr>\n",
       "  </thead>\n",
       "  <tbody>\n",
       "    <tr>\n",
       "      <th>0</th>\n",
       "      <td>-1.5</td>\n",
       "      <td>-0.0</td>\n",
       "      <td>-0.0</td>\n",
       "      <td>-1.5</td>\n",
       "      <td>-0.0</td>\n",
       "      <td>-0.0</td>\n",
       "      <td>-0.0</td>\n",
       "      <td>-0.0</td>\n",
       "      <td>-0.0</td>\n",
       "      <td>-0.0</td>\n",
       "      <td>...</td>\n",
       "      <td>-0.0</td>\n",
       "      <td>-0.0</td>\n",
       "      <td>-0.0</td>\n",
       "      <td>-0.0</td>\n",
       "      <td>-0.0</td>\n",
       "      <td>-0.0</td>\n",
       "      <td>-0.0</td>\n",
       "      <td>-0.0</td>\n",
       "      <td>-0.0</td>\n",
       "      <td>stcules</td>\n",
       "    </tr>\n",
       "    <tr>\n",
       "      <th>1</th>\n",
       "      <td>0.0</td>\n",
       "      <td>0.0</td>\n",
       "      <td>0.0</td>\n",
       "      <td>0.0</td>\n",
       "      <td>0.0</td>\n",
       "      <td>0.0</td>\n",
       "      <td>0.0</td>\n",
       "      <td>0.0</td>\n",
       "      <td>0.0</td>\n",
       "      <td>0.0</td>\n",
       "      <td>...</td>\n",
       "      <td>0.0</td>\n",
       "      <td>0.0</td>\n",
       "      <td>0.0</td>\n",
       "      <td>0.0</td>\n",
       "      <td>0.0</td>\n",
       "      <td>0.0</td>\n",
       "      <td>0.0</td>\n",
       "      <td>0.0</td>\n",
       "      <td>0.0</td>\n",
       "      <td>stcules</td>\n",
       "    </tr>\n",
       "    <tr>\n",
       "      <th>2</th>\n",
       "      <td>0.0</td>\n",
       "      <td>0.0</td>\n",
       "      <td>0.0</td>\n",
       "      <td>0.0</td>\n",
       "      <td>0.0</td>\n",
       "      <td>0.0</td>\n",
       "      <td>0.0</td>\n",
       "      <td>0.0</td>\n",
       "      <td>0.0</td>\n",
       "      <td>0.0</td>\n",
       "      <td>...</td>\n",
       "      <td>0.0</td>\n",
       "      <td>0.0</td>\n",
       "      <td>0.0</td>\n",
       "      <td>0.0</td>\n",
       "      <td>0.0</td>\n",
       "      <td>0.0</td>\n",
       "      <td>0.0</td>\n",
       "      <td>0.0</td>\n",
       "      <td>0.0</td>\n",
       "      <td>stcules</td>\n",
       "    </tr>\n",
       "    <tr>\n",
       "      <th>3</th>\n",
       "      <td>0.0</td>\n",
       "      <td>0.0</td>\n",
       "      <td>0.0</td>\n",
       "      <td>0.0</td>\n",
       "      <td>0.0</td>\n",
       "      <td>0.0</td>\n",
       "      <td>0.0</td>\n",
       "      <td>0.0</td>\n",
       "      <td>0.0</td>\n",
       "      <td>0.0</td>\n",
       "      <td>...</td>\n",
       "      <td>0.0</td>\n",
       "      <td>0.0</td>\n",
       "      <td>0.0</td>\n",
       "      <td>0.0</td>\n",
       "      <td>0.0</td>\n",
       "      <td>0.0</td>\n",
       "      <td>0.0</td>\n",
       "      <td>0.0</td>\n",
       "      <td>0.0</td>\n",
       "      <td>stcules</td>\n",
       "    </tr>\n",
       "    <tr>\n",
       "      <th>4</th>\n",
       "      <td>1.0</td>\n",
       "      <td>0.0</td>\n",
       "      <td>0.0</td>\n",
       "      <td>0.0</td>\n",
       "      <td>0.0</td>\n",
       "      <td>0.0</td>\n",
       "      <td>1.0</td>\n",
       "      <td>0.0</td>\n",
       "      <td>0.0</td>\n",
       "      <td>0.0</td>\n",
       "      <td>...</td>\n",
       "      <td>0.0</td>\n",
       "      <td>0.0</td>\n",
       "      <td>0.0</td>\n",
       "      <td>0.0</td>\n",
       "      <td>0.0</td>\n",
       "      <td>0.0</td>\n",
       "      <td>0.0</td>\n",
       "      <td>0.0</td>\n",
       "      <td>0.0</td>\n",
       "      <td>johnmichaelsen</td>\n",
       "    </tr>\n",
       "  </tbody>\n",
       "</table>\n",
       "<p>5 rows × 717 columns</p>\n",
       "</div>"
      ],
      "text/plain": [
       "     0    1    2    3    4    5    6    7    8    9         ...          707  \\\n",
       "0 -1.5 -0.0 -0.0 -1.5 -0.0 -0.0 -0.0 -0.0 -0.0 -0.0         ...         -0.0   \n",
       "1  0.0  0.0  0.0  0.0  0.0  0.0  0.0  0.0  0.0  0.0         ...          0.0   \n",
       "2  0.0  0.0  0.0  0.0  0.0  0.0  0.0  0.0  0.0  0.0         ...          0.0   \n",
       "3  0.0  0.0  0.0  0.0  0.0  0.0  0.0  0.0  0.0  0.0         ...          0.0   \n",
       "4  1.0  0.0  0.0  0.0  0.0  0.0  1.0  0.0  0.0  0.0         ...          0.0   \n",
       "\n",
       "   708  709  710  711  712  713  714  715  review_profilename  \n",
       "0 -0.0 -0.0 -0.0 -0.0 -0.0 -0.0 -0.0 -0.0             stcules  \n",
       "1  0.0  0.0  0.0  0.0  0.0  0.0  0.0  0.0             stcules  \n",
       "2  0.0  0.0  0.0  0.0  0.0  0.0  0.0  0.0             stcules  \n",
       "3  0.0  0.0  0.0  0.0  0.0  0.0  0.0  0.0             stcules  \n",
       "4  0.0  0.0  0.0  0.0  0.0  0.0  0.0  0.0      johnmichaelsen  \n",
       "\n",
       "[5 rows x 717 columns]"
      ]
     },
     "execution_count": 32,
     "metadata": {},
     "output_type": "execute_result"
    }
   ],
   "source": [
    "reviewer_features.head()"
   ]
  },
  {
   "cell_type": "code",
   "execution_count": 33,
   "metadata": {
    "collapsed": true
   },
   "outputs": [],
   "source": [
    "reviewer_features = reviewer_features.groupby('review_profilename')[range(n_features)].mean()"
   ]
  },
  {
   "cell_type": "code",
   "execution_count": 34,
   "metadata": {
    "collapsed": true
   },
   "outputs": [],
   "source": [
    "reviewer_features = reviewer_features.divide(reviewer_features.sum(axis=1), axis=0)"
   ]
  },
  {
   "cell_type": "code",
   "execution_count": 35,
   "metadata": {},
   "outputs": [
    {
     "data": {
      "text/html": [
       "<div>\n",
       "<table border=\"1\" class=\"dataframe\">\n",
       "  <thead>\n",
       "    <tr style=\"text-align: right;\">\n",
       "      <th></th>\n",
       "      <th>0</th>\n",
       "      <th>1</th>\n",
       "      <th>2</th>\n",
       "      <th>3</th>\n",
       "      <th>4</th>\n",
       "      <th>5</th>\n",
       "      <th>6</th>\n",
       "      <th>7</th>\n",
       "      <th>8</th>\n",
       "      <th>9</th>\n",
       "      <th>...</th>\n",
       "      <th>706</th>\n",
       "      <th>707</th>\n",
       "      <th>708</th>\n",
       "      <th>709</th>\n",
       "      <th>710</th>\n",
       "      <th>711</th>\n",
       "      <th>712</th>\n",
       "      <th>713</th>\n",
       "      <th>714</th>\n",
       "      <th>715</th>\n",
       "    </tr>\n",
       "    <tr>\n",
       "      <th>review_profilename</th>\n",
       "      <th></th>\n",
       "      <th></th>\n",
       "      <th></th>\n",
       "      <th></th>\n",
       "      <th></th>\n",
       "      <th></th>\n",
       "      <th></th>\n",
       "      <th></th>\n",
       "      <th></th>\n",
       "      <th></th>\n",
       "      <th></th>\n",
       "      <th></th>\n",
       "      <th></th>\n",
       "      <th></th>\n",
       "      <th></th>\n",
       "      <th></th>\n",
       "      <th></th>\n",
       "      <th></th>\n",
       "      <th></th>\n",
       "      <th></th>\n",
       "      <th></th>\n",
       "    </tr>\n",
       "  </thead>\n",
       "  <tbody>\n",
       "    <tr>\n",
       "      <th>0110x011</th>\n",
       "      <td>0.168582</td>\n",
       "      <td>0.080460</td>\n",
       "      <td>0.0</td>\n",
       "      <td>0.000000</td>\n",
       "      <td>0.038314</td>\n",
       "      <td>0.022989</td>\n",
       "      <td>0.030651</td>\n",
       "      <td>-0.003831</td>\n",
       "      <td>0.0</td>\n",
       "      <td>0.0</td>\n",
       "      <td>...</td>\n",
       "      <td>0.0</td>\n",
       "      <td>0.0</td>\n",
       "      <td>0.0</td>\n",
       "      <td>0.0</td>\n",
       "      <td>0.0</td>\n",
       "      <td>0.000000</td>\n",
       "      <td>0.011494</td>\n",
       "      <td>0.0</td>\n",
       "      <td>0.003831</td>\n",
       "      <td>0.0</td>\n",
       "    </tr>\n",
       "    <tr>\n",
       "      <th>05Harley</th>\n",
       "      <td>0.173554</td>\n",
       "      <td>0.074380</td>\n",
       "      <td>0.0</td>\n",
       "      <td>0.000000</td>\n",
       "      <td>0.024793</td>\n",
       "      <td>0.041322</td>\n",
       "      <td>0.016529</td>\n",
       "      <td>0.016529</td>\n",
       "      <td>0.0</td>\n",
       "      <td>0.0</td>\n",
       "      <td>...</td>\n",
       "      <td>0.0</td>\n",
       "      <td>0.0</td>\n",
       "      <td>0.0</td>\n",
       "      <td>0.0</td>\n",
       "      <td>0.0</td>\n",
       "      <td>-0.008264</td>\n",
       "      <td>0.000000</td>\n",
       "      <td>0.0</td>\n",
       "      <td>0.000000</td>\n",
       "      <td>0.0</td>\n",
       "    </tr>\n",
       "    <tr>\n",
       "      <th>0tt0</th>\n",
       "      <td>0.196429</td>\n",
       "      <td>0.000000</td>\n",
       "      <td>0.0</td>\n",
       "      <td>0.035714</td>\n",
       "      <td>0.000000</td>\n",
       "      <td>0.107143</td>\n",
       "      <td>0.000000</td>\n",
       "      <td>0.000000</td>\n",
       "      <td>0.0</td>\n",
       "      <td>0.0</td>\n",
       "      <td>...</td>\n",
       "      <td>0.0</td>\n",
       "      <td>0.0</td>\n",
       "      <td>0.0</td>\n",
       "      <td>0.0</td>\n",
       "      <td>0.0</td>\n",
       "      <td>0.000000</td>\n",
       "      <td>0.000000</td>\n",
       "      <td>0.0</td>\n",
       "      <td>0.000000</td>\n",
       "      <td>0.0</td>\n",
       "    </tr>\n",
       "    <tr>\n",
       "      <th>100floods</th>\n",
       "      <td>0.176056</td>\n",
       "      <td>0.084507</td>\n",
       "      <td>0.0</td>\n",
       "      <td>0.000000</td>\n",
       "      <td>0.021127</td>\n",
       "      <td>0.056338</td>\n",
       "      <td>0.014085</td>\n",
       "      <td>0.000000</td>\n",
       "      <td>0.0</td>\n",
       "      <td>0.0</td>\n",
       "      <td>...</td>\n",
       "      <td>0.0</td>\n",
       "      <td>0.0</td>\n",
       "      <td>0.0</td>\n",
       "      <td>0.0</td>\n",
       "      <td>0.0</td>\n",
       "      <td>0.000000</td>\n",
       "      <td>0.000000</td>\n",
       "      <td>0.0</td>\n",
       "      <td>0.000000</td>\n",
       "      <td>0.0</td>\n",
       "    </tr>\n",
       "    <tr>\n",
       "      <th>100proof</th>\n",
       "      <td>0.200000</td>\n",
       "      <td>0.000000</td>\n",
       "      <td>0.0</td>\n",
       "      <td>0.000000</td>\n",
       "      <td>0.000000</td>\n",
       "      <td>0.000000</td>\n",
       "      <td>0.000000</td>\n",
       "      <td>0.200000</td>\n",
       "      <td>0.0</td>\n",
       "      <td>0.0</td>\n",
       "      <td>...</td>\n",
       "      <td>0.0</td>\n",
       "      <td>0.0</td>\n",
       "      <td>0.0</td>\n",
       "      <td>0.0</td>\n",
       "      <td>0.0</td>\n",
       "      <td>0.000000</td>\n",
       "      <td>0.000000</td>\n",
       "      <td>0.0</td>\n",
       "      <td>0.000000</td>\n",
       "      <td>0.0</td>\n",
       "    </tr>\n",
       "  </tbody>\n",
       "</table>\n",
       "<p>5 rows × 716 columns</p>\n",
       "</div>"
      ],
      "text/plain": [
       "                         0         1    2         3         4         5    \\\n",
       "review_profilename                                                          \n",
       "0110x011            0.168582  0.080460  0.0  0.000000  0.038314  0.022989   \n",
       "05Harley            0.173554  0.074380  0.0  0.000000  0.024793  0.041322   \n",
       "0tt0                0.196429  0.000000  0.0  0.035714  0.000000  0.107143   \n",
       "100floods           0.176056  0.084507  0.0  0.000000  0.021127  0.056338   \n",
       "100proof            0.200000  0.000000  0.0  0.000000  0.000000  0.000000   \n",
       "\n",
       "                         6         7    8    9   ...   706  707  708  709  \\\n",
       "review_profilename                               ...                        \n",
       "0110x011            0.030651 -0.003831  0.0  0.0 ...   0.0  0.0  0.0  0.0   \n",
       "05Harley            0.016529  0.016529  0.0  0.0 ...   0.0  0.0  0.0  0.0   \n",
       "0tt0                0.000000  0.000000  0.0  0.0 ...   0.0  0.0  0.0  0.0   \n",
       "100floods           0.014085  0.000000  0.0  0.0 ...   0.0  0.0  0.0  0.0   \n",
       "100proof            0.000000  0.200000  0.0  0.0 ...   0.0  0.0  0.0  0.0   \n",
       "\n",
       "                    710       711       712  713       714  715  \n",
       "review_profilename                                               \n",
       "0110x011            0.0  0.000000  0.011494  0.0  0.003831  0.0  \n",
       "05Harley            0.0 -0.008264  0.000000  0.0  0.000000  0.0  \n",
       "0tt0                0.0  0.000000  0.000000  0.0  0.000000  0.0  \n",
       "100floods           0.0  0.000000  0.000000  0.0  0.000000  0.0  \n",
       "100proof            0.0  0.000000  0.000000  0.0  0.000000  0.0  \n",
       "\n",
       "[5 rows x 716 columns]"
      ]
     },
     "execution_count": 35,
     "metadata": {},
     "output_type": "execute_result"
    }
   ],
   "source": [
    "reviewer_features.head()"
   ]
  },
  {
   "cell_type": "markdown",
   "metadata": {},
   "source": [
    "Now that we have `beer_features` and `reviewer_features`, we can proceed to calculating the distance or similarity between two vectors using dot product method.\n",
    "\n",
    "![](figs/matrices.png)"
   ]
  },
  {
   "cell_type": "markdown",
   "metadata": {},
   "source": [
    "### Predict recommendation by dot product\n",
    "\n",
    "Let's pick an arbitrary user."
   ]
  },
  {
   "cell_type": "code",
   "execution_count": 36,
   "metadata": {
    "collapsed": true
   },
   "outputs": [],
   "source": [
    "user = 'WesWes'"
   ]
  },
  {
   "cell_type": "markdown",
   "metadata": {},
   "source": [
    "Compute user's vector and all beer vectors, and take dot product."
   ]
  },
  {
   "cell_type": "code",
   "execution_count": 37,
   "metadata": {
    "collapsed": true
   },
   "outputs": [],
   "source": [
    "v = reviewer_features.loc[user].values"
   ]
  },
  {
   "cell_type": "code",
   "execution_count": 38,
   "metadata": {
    "collapsed": true
   },
   "outputs": [],
   "source": [
    "M = beer_features.values"
   ]
  },
  {
   "cell_type": "code",
   "execution_count": 39,
   "metadata": {
    "collapsed": true
   },
   "outputs": [],
   "source": [
    "pred = M.dot(v)"
   ]
  },
  {
   "cell_type": "code",
   "execution_count": 40,
   "metadata": {},
   "outputs": [
    {
     "data": {
      "text/plain": [
       "array([ 0.28119382,  0.27076591,  0.20927724, ...,  0.29989213,\n",
       "        0.30744337,  0.23696512])"
      ]
     },
     "execution_count": 40,
     "metadata": {},
     "output_type": "execute_result"
    }
   ],
   "source": [
    "pred"
   ]
  },
  {
   "cell_type": "code",
   "execution_count": 41,
   "metadata": {
    "collapsed": true
   },
   "outputs": [],
   "source": [
    "pred = pd.Series(pred, index=beer_features.index, name=\"predictions\").sort_values(ascending=False, inplace=False)"
   ]
  },
  {
   "cell_type": "code",
   "execution_count": 42,
   "metadata": {},
   "outputs": [
    {
     "data": {
      "text/plain": [
       "beer_beerid\n",
       "276      0.409924\n",
       "8171     0.409924\n",
       "27865    0.404890\n",
       "73121    0.401654\n",
       "8170     0.401654\n",
       "12186    0.399137\n",
       "31625    0.399137\n",
       "42939    0.399137\n",
       "30247    0.399137\n",
       "74662    0.399137\n",
       "21824    0.399137\n",
       "75876    0.396620\n",
       "51301    0.396620\n",
       "53794    0.396620\n",
       "4073     0.396620\n",
       "52312    0.396620\n",
       "34419    0.396620\n",
       "67771    0.395901\n",
       "7805     0.395901\n",
       "1550     0.393384\n",
       "34461    0.391945\n",
       "3680     0.391586\n",
       "1598     0.389788\n",
       "54059    0.388709\n",
       "75087    0.388709\n",
       "64129    0.388709\n",
       "72766    0.388350\n",
       "74189    0.388350\n",
       "16690    0.388350\n",
       "66269    0.388350\n",
       "           ...   \n",
       "75480    0.174038\n",
       "70983    0.174038\n",
       "71003    0.174038\n",
       "74149    0.174038\n",
       "49607    0.174038\n",
       "44800    0.174038\n",
       "27824    0.174038\n",
       "18509    0.174038\n",
       "23234    0.174038\n",
       "18576    0.174038\n",
       "37103    0.174038\n",
       "50849    0.174038\n",
       "6440     0.174038\n",
       "70786    0.174038\n",
       "34648    0.174038\n",
       "64391    0.174038\n",
       "24370    0.174038\n",
       "37680    0.174038\n",
       "69410    0.174038\n",
       "12395    0.174038\n",
       "34650    0.174038\n",
       "11713    0.174038\n",
       "46666    0.174038\n",
       "76127    0.174038\n",
       "51707    0.174038\n",
       "29725    0.174038\n",
       "21716    0.174038\n",
       "65082    0.174038\n",
       "65490    0.174038\n",
       "63467    0.174038\n",
       "Name: predictions, dtype: float64"
      ]
     },
     "execution_count": 42,
     "metadata": {},
     "output_type": "execute_result"
    }
   ],
   "source": [
    "pred"
   ]
  },
  {
   "cell_type": "markdown",
   "metadata": {},
   "source": [
    "Change the beer id (the index) with beer names:"
   ]
  },
  {
   "cell_type": "code",
   "execution_count": 43,
   "metadata": {
    "collapsed": true
   },
   "outputs": [],
   "source": [
    "pred_name = pd.Series(pred.values, beer_names[pred.index], name=pred.name)"
   ]
  },
  {
   "cell_type": "code",
   "execution_count": 44,
   "metadata": {},
   "outputs": [
    {
     "data": {
      "text/plain": [
       "beer_name\n",
       "Sierra Nevada Pale Ale                                                    0.409924\n",
       "Extra Special Pale Ale (ESP)                                              0.409924\n",
       "Founders Brassworks Ale                                                   0.404890\n",
       "Allocation Ale - Beer Camp #52                                            0.401654\n",
       "Sierra Nevada Draught Style Pale Ale                                      0.401654\n",
       "Founders Weizenbier                                                       0.399137\n",
       "Founders Gold Sunshine                                                    0.399137\n",
       "Founders Dumbo Head Wheat Beer                                            0.399137\n",
       "Founders White Sunshine Weiss                                             0.399137\n",
       "Founders Dry Hopped Honey Wheat                                           0.399137\n",
       "Founders Hop Sun                                                          0.399137\n",
       "Founders Boss Pale Ale                                                    0.396620\n",
       "Founders Homegrown Spite (Mild)                                           0.396620\n",
       "Founders The Chronic                                                      0.396620\n",
       "Founders Pale Ale                                                         0.396620\n",
       "Founders Spice Rack Attack                                                0.396620\n",
       "Founders Peter Piper Peppered Pale                                        0.396620\n",
       "Old Chico Crystal Wheat                                                   0.395901\n",
       "Sierra Nevada Crystal Wheat Beer                                          0.395901\n",
       "Stoudts American Pale Ale                                                 0.393384\n",
       "Founders Amber                                                            0.391945\n",
       "River Horse Hop Hazard Pale Ale                                           0.391586\n",
       "Old Slugger                                                               0.389788\n",
       "Stoudts Winter Ale (2009-2010)                                            0.388709\n",
       "Revel Red                                                                 0.388709\n",
       "Stoudt's Winter Ale (2010-2011)                                           0.388709\n",
       "Fallbrook Estate Pale Ale                                                 0.388350\n",
       "Packaging Line                                                            0.388350\n",
       "Glacier Pale Ale                                                          0.388350\n",
       "Achievement Beyond Life's Experiences (A.B.L.E.) (Pizza Port Carlsbad)    0.388350\n",
       "                                                                            ...   \n",
       "Schwartzeit                                                               0.174038\n",
       "Olimpia Kvas                                                              0.174038\n",
       "Summertime Kristalweizen                                                  0.174038\n",
       "Black Lager                                                               0.174038\n",
       "Bier De Mars                                                              0.174038\n",
       "Decker's Dunkel                                                           0.174038\n",
       "Schwarzbier                                                               0.174038\n",
       "Hartmann Felsenkeller                                                     0.174038\n",
       "Roggen                                                                    0.174038\n",
       "Löwenbräu Hausbräu                                                        0.174038\n",
       "Spuyten Duyvil                                                            0.174038\n",
       "Berliner Weisse                                                           0.174038\n",
       "Hartmann Erbschänk 1550                                                   0.174038\n",
       "Old Kiev Kvas                                                             0.174038\n",
       "WalderBräu Schwarzbier                                                    0.174038\n",
       "Eisbock                                                                   0.174038\n",
       "Schwarzbier                                                               0.174038\n",
       "Negra                                                                     0.174038\n",
       "Falconer's Rye                                                            0.174038\n",
       "Svetloye                                                                  0.174038\n",
       "WalderBräu Naturtrüb Hell                                                 0.174038\n",
       "Barkhatnoye                                                               0.174038\n",
       "Darkside Schwarzbier                                                      0.174038\n",
       "Schwarzbier                                                               0.174038\n",
       "Schwartz                                                                  0.174038\n",
       "Europa Schwartz Pils                                                      0.174038\n",
       "Bald Eagle Kristallweizen                                                 0.174038\n",
       "Roggenbier                                                                0.174038\n",
       "Zwickelbier                                                               0.174038\n",
       "Replic Ale (2010)                                                         0.174038\n",
       "Name: predictions, dtype: float64"
      ]
     },
     "execution_count": 44,
     "metadata": {},
     "output_type": "execute_result"
    }
   ],
   "source": [
    "pred_name"
   ]
  },
  {
   "cell_type": "code",
   "execution_count": 45,
   "metadata": {},
   "outputs": [
    {
     "name": "stdout",
     "output_type": "stream",
     "text": [
      "Top recommendations for WesWes:\n",
      "beer_name\n",
      "Sierra Nevada Pale Ale                  0.409924\n",
      "Extra Special Pale Ale (ESP)            0.409924\n",
      "Founders Brassworks Ale                 0.404890\n",
      "Allocation Ale - Beer Camp #52          0.401654\n",
      "Sierra Nevada Draught Style Pale Ale    0.401654\n",
      "Name: predictions, dtype: float64\n"
     ]
    }
   ],
   "source": [
    "print \"Top recommendations for {}:\".format(user)\n",
    "print pred_name.head()"
   ]
  },
  {
   "cell_type": "code",
   "execution_count": 46,
   "metadata": {},
   "outputs": [
    {
     "name": "stdout",
     "output_type": "stream",
     "text": [
      "Bottom  recommendations (don't drink these, WesWes!)\n",
      "beer_name\n",
      "Europa Schwartz Pils         0.174038\n",
      "Bald Eagle Kristallweizen    0.174038\n",
      "Roggenbier                   0.174038\n",
      "Zwickelbier                  0.174038\n",
      "Replic Ale (2010)            0.174038\n",
      "Name: predictions, dtype: float64\n"
     ]
    }
   ],
   "source": [
    "print \"Bottom  recommendations (don't drink these, {}!)\".format(user)\n",
    "print pred_name.tail()"
   ]
  },
  {
   "cell_type": "markdown",
   "metadata": {},
   "source": [
    "How do they compare with his actual reviews?  (Note that we take the mean since multiple reviews per drinker-beer pair occur.)"
   ]
  },
  {
   "cell_type": "code",
   "execution_count": 47,
   "metadata": {
    "collapsed": true
   },
   "outputs": [],
   "source": [
    "user_reviews = data[data.review_profilename == user].groupby('beer_beerid') \\\n",
    "                                                    .review_overall.mean() \\\n",
    "                                                    .sort_values(ascending=False, inplace=False)"
   ]
  },
  {
   "cell_type": "code",
   "execution_count": 48,
   "metadata": {
    "collapsed": true
   },
   "outputs": [],
   "source": [
    "user_reviews_name = pd.Series(user_reviews.values, index=beer_names[user_reviews.index])"
   ]
  },
  {
   "cell_type": "code",
   "execution_count": 49,
   "metadata": {},
   "outputs": [
    {
     "name": "stdout",
     "output_type": "stream",
     "text": [
      "Top reviewed by WesWes:\n",
      "beer_name\n",
      "Black Tuesday                              5.0\n",
      "Founders KBS (Kentucky Breakfast Stout)    5.0\n",
      "Northern Hemisphere Harvest Wet Hop Ale    5.0\n",
      "Stoudt's Double IPA (India Pale Ale)       5.0\n",
      "Founders CBS Imperial Stout                5.0\n",
      "dtype: float64\n"
     ]
    }
   ],
   "source": [
    "print \"Top reviewed by {}:\".format(user)\n",
    "print user_reviews_name.head()"
   ]
  },
  {
   "cell_type": "code",
   "execution_count": 50,
   "metadata": {},
   "outputs": [
    {
     "name": "stdout",
     "output_type": "stream",
     "text": [
      "Bottom reviewed by WesWes:\n",
      "beer_name\n",
      "Weizen Berry                               3.0\n",
      "Heineken Premium Light Lager               3.0\n",
      "Pikop Andropov's Rushin' Imperial Stout    3.0\n",
      "ESB Amber Ale                              3.0\n",
      "Organic Münster Alt                        3.0\n",
      "dtype: float64\n"
     ]
    }
   ],
   "source": [
    "print \"Bottom reviewed by {}:\".format(user)\n",
    "print user_reviews_name.tail()"
   ]
  },
  {
   "cell_type": "markdown",
   "metadata": {},
   "source": [
    "Let's compare them all."
   ]
  },
  {
   "cell_type": "code",
   "execution_count": 51,
   "metadata": {},
   "outputs": [
    {
     "data": {
      "image/png": "[encoded data removed]",
      "text/plain": [
       "<matplotlib.figure.Figure at 0x115e3e7d0>"
      ]
     },
     "metadata": {},
     "output_type": "display_data"
    }
   ],
   "source": [
    "f = sb.regplot(user_reviews, pred[list(user_reviews.index)], scatter_kws=dict(alpha=.4))"
   ]
  },
  {
   "cell_type": "markdown",
   "metadata": {
    "collapsed": true
   },
   "source": [
    "Not bad. Note that we completely ignored overfitting and cross validation for readability's sake.\n",
    "\n",
    "### Alternatively, predict recommendations using linear regression\n",
    "\n",
    "Given this feature matrix and user reviews, we could also use a simple linear regression to predict a review for a user.  We will limit our dataset to the reviews of one user only, and then feed those into the model."
   ]
  },
  {
   "cell_type": "code",
   "execution_count": 52,
   "metadata": {},
   "outputs": [
    {
     "name": "stdout",
     "output_type": "stream",
     "text": [
      "Filtering reviews by WesWes:\n",
      "(253, 716) (253,)\n"
     ]
    }
   ],
   "source": [
    "print \"Filtering reviews by {}:\".format(user)\n",
    "idx = (data.review_profilename == user).values  # filter reviews of user\n",
    "X_user, y_user = X[idx, :], y[idx]\n",
    "print X_user.shape, y_user.shape"
   ]
  },
  {
   "cell_type": "code",
   "execution_count": 53,
   "metadata": {},
   "outputs": [
    {
     "name": "stdout",
     "output_type": "stream",
     "text": [
      "[-0.42260271 -0.39218923 -0.38307428]\n",
      "[-0.22913789 -0.14327301  0.04404437]\n"
     ]
    }
   ],
   "source": [
    "model = Ridge()\n",
    "model.fit(X_user, y_user)\n",
    "print cross_val_score(model, X_user, y_user, scoring='neg_mean_absolute_error')\n",
    "print cross_val_score(model, X_user, y_user, scoring='r2')"
   ]
  },
  {
   "cell_type": "markdown",
   "metadata": {},
   "source": [
    "Pretty bad cross-validation scores, but mind you we have only a handful reviews."
   ]
  },
  {
   "cell_type": "code",
   "execution_count": 54,
   "metadata": {},
   "outputs": [
    {
     "name": "stdout",
     "output_type": "stream",
     "text": [
      "Top recommendations for WesWes.\n",
      "beer_name\n",
      "Sierra Nevada Imperial Stout                               4.796611\n",
      "Able I.P.A.                                                4.790692\n",
      "The Colonel's Porter                                       4.780963\n",
      "The Colonel's Porter (Cask Primed With English Treacle)    4.780963\n",
      "Samson                                                     4.752497\n",
      "Name: predictions, dtype: float64\n"
     ]
    }
   ],
   "source": [
    "uniques, idx = np.unique(data.beer_beerid, return_index=True)  # find beer labels\n",
    "pred = pd.Series(model.predict(X[idx, :]), index=data.beer_beerid[idx], name=\"predictions\") \\\n",
    "    .sort_values(ascending=False, inplace=False)\n",
    "pred_name = pd.Series(pred.values, beer_names[pred.index], name=\"predictions\")\n",
    "print \"Top recommendations for {}.\".format(user)\n",
    "print pred_name[:5]"
   ]
  },
  {
   "cell_type": "markdown",
   "metadata": {},
   "source": [
    "Let's see how those relate to his actual reviews."
   ]
  },
  {
   "cell_type": "code",
   "execution_count": 55,
   "metadata": {
    "scrolled": false
   },
   "outputs": [
    {
     "data": {
      "image/png": "[encoded data removed]",
      "text/plain": [
       "<matplotlib.figure.Figure at 0x117bf7890>"
      ]
     },
     "metadata": {},
     "output_type": "display_data"
    }
   ],
   "source": [
    "f = sb.regplot(user_reviews, pred[list(user_reviews.index)], scatter_kws=dict(alpha=.4))"
   ]
  },
  {
   "cell_type": "markdown",
   "metadata": {},
   "source": [
    "Pretty spectacular. \n",
    "\n",
    "Just for the fun of it, how will this user rate a random beer?"
   ]
  },
  {
   "cell_type": "code",
   "execution_count": 56,
   "metadata": {},
   "outputs": [
    {
     "name": "stdout",
     "output_type": "stream",
     "text": [
      "WesWes will give beer Bourbon Brown Ale a rating of 3.6.\n"
     ]
    }
   ],
   "source": [
    "beer = np.random.choice(beer_names.index)\n",
    "beer_idx = (data.beer_beerid == beer).values\n",
    "X_beer = X[beer_idx, :][0]  # just take the first entry\n",
    "print \"{} will give beer {} a rating of {:.1f}.\".format(user, beer_names[beer], model.predict(X_beer.reshape(1,-1))[0])"
   ]
  }
 ],
 "metadata": {
  "anaconda-cloud": {},
  "kernelspec": {
   "display_name": "Python [default]",
   "language": "python",
   "name": "python2"
  },
  "language_info": {
   "codemirror_mode": {
    "name": "ipython",
    "version": 2
   },
   "file_extension": ".py",
   "mimetype": "text/x-python",
   "name": "python",
   "nbconvert_exporter": "python",
   "pygments_lexer": "ipython2",
   "version": "2.7.12"
  }
 },
 "nbformat": 4,
 "nbformat_minor": 1
}
