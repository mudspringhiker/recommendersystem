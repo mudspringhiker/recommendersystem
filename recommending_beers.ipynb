{
 "cells": [
  {
   "cell_type": "markdown",
   "metadata": {},
   "source": [
    "# Recommendation Systems\n",
    "\n",
    "This notebook aims to present how to create the algorithm for recommending beers.\n",
    "\n",
    "There are two types of recommendation systems:\n",
    "\n",
    "1. Content-based filtering (mapping items and users into a feature space)\n",
    "  1. Computing distance between items and users using dot products\n",
    "  1. Predicting ratings (or likes/dislikes) given the features\n",
    "  \n",
    "1. Collaborative filtering\n",
    "  1. Item-based: compute similarity between items, recommend items most similar to user's items\n",
    "  2. Model-based: use technqiues to find latent variables (i.e., deeper structure) in the ratings data, for example matrix decomposition techniques.  Ratings are constructed by taking dot products of user & item vectors in the latent feature space.\n",
    "  \n",
    "\n",
    "### Data Exploration\n",
    "\n",
    "Please download the **[beer reviews](https://s3.amazonaws.com/demo-datasets/beer_reviews.tar.gz) dataset.** \n",
    "\n",
    "#### Loading code and data "
   ]
  },
  {
   "cell_type": "code",
   "execution_count": 1,
   "metadata": {
    "collapsed": true
   },
   "outputs": [],
   "source": [
    "import numpy as np\n",
    "import pandas as pd\n",
    "from sklearn.linear_model import LinearRegression, Lasso, Ridge\n",
    "from sklearn.model_selection import cross_val_score, train_test_split\n",
    "from sklearn.feature_extraction.text import CountVectorizer\n",
    "from patsy import dmatrix\n",
    "import seaborn as sb\n",
    "from matplotlib import pyplot as plt\n",
    "%matplotlib inline"
   ]
  },
  {
   "cell_type": "code",
   "execution_count": 2,
   "metadata": {},
   "outputs": [
    {
     "name": "stdout",
     "output_type": "stream",
     "text": [
      "CPU times: user 4.55 s, sys: 485 ms, total: 5.04 s\n",
      "Wall time: 5.08 s\n"
     ]
    }
   ],
   "source": [
    "%%time\n",
    "data = pd.read_csv(\"beer_reviews/beer_reviews.csv\")"
   ]
  },
  {
   "cell_type": "code",
   "execution_count": 3,
   "metadata": {},
   "outputs": [
    {
     "name": "stdout",
     "output_type": "stream",
     "text": [
      "We have 1586614 reviews for 66055 beers from 5840 breweries, by 33387 drinkers.\n"
     ]
    }
   ],
   "source": [
    "print \"We have {} reviews for {} beers from {} breweries, by {} drinkers.\".format(len(data), \n",
    "                                                                                 data.beer_beerid.nunique(), \n",
    "                                                                                 data.brewery_id.nunique(), \n",
    "                                                                                 data.review_profilename.nunique())"
   ]
  },
  {
   "cell_type": "markdown",
   "metadata": {},
   "source": [
    "We could definitely truncate the data to speed up calculations. "
   ]
  },
  {
   "cell_type": "code",
   "execution_count": 4,
   "metadata": {},
   "outputs": [
    {
     "name": "stdout",
     "output_type": "stream",
     "text": [
      "We have 150000 reviews for 6420 beers from 589 breweries, by 13964 drinkers.\n"
     ]
    }
   ],
   "source": [
    "N = 150000\n",
    "data = data.iloc[:N]\n",
    "print \"We have {} reviews for {} beers from {} breweries, by {} drinkers.\".format(len(data), \n",
    "                                                                                  data.beer_beerid.nunique(), \n",
    "                                                                                  data.brewery_id.nunique(), \n",
    "                                                                                  data.review_profilename.nunique())"
   ]
  },
  {
   "cell_type": "code",
   "execution_count": 5,
   "metadata": {},
   "outputs": [
    {
     "data": {
      "text/html": [
       "<div>\n",
       "<table border=\"1\" class=\"dataframe\">\n",
       "  <thead>\n",
       "    <tr style=\"text-align: right;\">\n",
       "      <th></th>\n",
       "      <th>brewery_id</th>\n",
       "      <th>brewery_name</th>\n",
       "      <th>review_time</th>\n",
       "      <th>review_overall</th>\n",
       "      <th>review_aroma</th>\n",
       "      <th>review_appearance</th>\n",
       "      <th>review_profilename</th>\n",
       "      <th>beer_style</th>\n",
       "      <th>review_palate</th>\n",
       "      <th>review_taste</th>\n",
       "      <th>beer_name</th>\n",
       "      <th>beer_abv</th>\n",
       "      <th>beer_beerid</th>\n",
       "    </tr>\n",
       "  </thead>\n",
       "  <tbody>\n",
       "    <tr>\n",
       "      <th>0</th>\n",
       "      <td>10325</td>\n",
       "      <td>Vecchio Birraio</td>\n",
       "      <td>1234817823</td>\n",
       "      <td>1.5</td>\n",
       "      <td>2.0</td>\n",
       "      <td>2.5</td>\n",
       "      <td>stcules</td>\n",
       "      <td>Hefeweizen</td>\n",
       "      <td>1.5</td>\n",
       "      <td>1.5</td>\n",
       "      <td>Sausa Weizen</td>\n",
       "      <td>5.0</td>\n",
       "      <td>47986</td>\n",
       "    </tr>\n",
       "    <tr>\n",
       "      <th>1</th>\n",
       "      <td>10325</td>\n",
       "      <td>Vecchio Birraio</td>\n",
       "      <td>1235915097</td>\n",
       "      <td>3.0</td>\n",
       "      <td>2.5</td>\n",
       "      <td>3.0</td>\n",
       "      <td>stcules</td>\n",
       "      <td>English Strong Ale</td>\n",
       "      <td>3.0</td>\n",
       "      <td>3.0</td>\n",
       "      <td>Red Moon</td>\n",
       "      <td>6.2</td>\n",
       "      <td>48213</td>\n",
       "    </tr>\n",
       "    <tr>\n",
       "      <th>2</th>\n",
       "      <td>10325</td>\n",
       "      <td>Vecchio Birraio</td>\n",
       "      <td>1235916604</td>\n",
       "      <td>3.0</td>\n",
       "      <td>2.5</td>\n",
       "      <td>3.0</td>\n",
       "      <td>stcules</td>\n",
       "      <td>Foreign / Export Stout</td>\n",
       "      <td>3.0</td>\n",
       "      <td>3.0</td>\n",
       "      <td>Black Horse Black Beer</td>\n",
       "      <td>6.5</td>\n",
       "      <td>48215</td>\n",
       "    </tr>\n",
       "  </tbody>\n",
       "</table>\n",
       "</div>"
      ],
      "text/plain": [
       "   brewery_id     brewery_name  review_time  review_overall  review_aroma  \\\n",
       "0       10325  Vecchio Birraio   1234817823             1.5           2.0   \n",
       "1       10325  Vecchio Birraio   1235915097             3.0           2.5   \n",
       "2       10325  Vecchio Birraio   1235916604             3.0           2.5   \n",
       "\n",
       "   review_appearance review_profilename              beer_style  \\\n",
       "0                2.5            stcules              Hefeweizen   \n",
       "1                3.0            stcules      English Strong Ale   \n",
       "2                3.0            stcules  Foreign / Export Stout   \n",
       "\n",
       "   review_palate  review_taste               beer_name  beer_abv  beer_beerid  \n",
       "0            1.5           1.5            Sausa Weizen       5.0        47986  \n",
       "1            3.0           3.0                Red Moon       6.2        48213  \n",
       "2            3.0           3.0  Black Horse Black Beer       6.5        48215  "
      ]
     },
     "execution_count": 5,
     "metadata": {},
     "output_type": "execute_result"
    }
   ],
   "source": [
    "data.head(3)"
   ]
  },
  {
   "cell_type": "code",
   "execution_count": 6,
   "metadata": {},
   "outputs": [
    {
     "name": "stdout",
     "output_type": "stream",
     "text": [
      "<class 'pandas.core.frame.DataFrame'>\n",
      "RangeIndex: 150000 entries, 0 to 149999\n",
      "Data columns (total 13 columns):\n",
      "brewery_id            150000 non-null int64\n",
      "brewery_name          150000 non-null object\n",
      "review_time           150000 non-null int64\n",
      "review_overall        150000 non-null float64\n",
      "review_aroma          150000 non-null float64\n",
      "review_appearance     150000 non-null float64\n",
      "review_profilename    149973 non-null object\n",
      "beer_style            150000 non-null object\n",
      "review_palate         150000 non-null float64\n",
      "review_taste          150000 non-null float64\n",
      "beer_name             150000 non-null object\n",
      "beer_abv              144889 non-null float64\n",
      "beer_beerid           150000 non-null int64\n",
      "dtypes: float64(6), int64(3), object(4)\n",
      "memory usage: 14.9+ MB\n"
     ]
    }
   ],
   "source": [
    "data.info()"
   ]
  },
  {
   "cell_type": "markdown",
   "metadata": {},
   "source": [
    "#### Data exploration\n",
    "\n",
    "Let's see per features how many categories we have."
   ]
  },
  {
   "cell_type": "code",
   "execution_count": 7,
   "metadata": {},
   "outputs": [
    {
     "name": "stdout",
     "output_type": "stream",
     "text": [
      "brewery_id          :     589 uniques\n",
      "brewery_name        :     589 uniques\n",
      "review_time         :  149904 uniques\n",
      "review_overall      :      10 uniques\n",
      "review_aroma        :       9 uniques\n",
      "review_appearance   :      10 uniques\n",
      "review_profilename  :   13964 uniques\n",
      "beer_style          :     102 uniques\n",
      "review_palate       :       9 uniques\n",
      "review_taste        :       9 uniques\n",
      "beer_name           :    6101 uniques\n",
      "beer_abv            :     177 uniques\n",
      "beer_beerid         :    6420 uniques\n"
     ]
    }
   ],
   "source": [
    "for col in data:\n",
    "    print \"{:20s}: {:7} uniques\".format(col, data[col].nunique())"
   ]
  },
  {
   "cell_type": "markdown",
   "metadata": {},
   "source": [
    "Note that\n",
    "- our items are in `beer_beerid` (note that the names in `beer_name` are not unique),\n",
    "- our users are `review_profilename`,\n",
    "- we will use `review_overall` as rating, although we have many more (`aroma`, `appearance`, `palate`, and `taste`)\n",
    "- we have only a few features: `brewery_id` (or `brewery_name`), `beer_abv` (% alcohol), and `beer_style`. We'll ignore `review_time`, although you might be able to spot differences in popularity over time.\n",
    "\n",
    "\n",
    "USERS\n",
    "\n",
    "--> `review_profilename` (there are 13964 users or reviewers)\n",
    "\n",
    "ITEMS\n",
    "\n",
    "--> `beer_beerid`  (there are 6420 beers reviewed)\n",
    "\n",
    "\n",
    "RATINGS\n",
    "\n",
    "--> `review_overall` (10 uniques -- rating goes from 1 to 5 (ratings are 0, 1, 1.5, 2, 2.5, etc.)\n",
    "\n",
    "   Other ratings can be used: `review_aroma`, `review_appearance`, `review_palate`, `review_taste`\n",
    "   \n",
    "FEATURES\n",
    "\n",
    "--> `brewery_id` (or `brewery_name`), `beer_abv` (% alcohol), and `beer_style`\n",
    "\n",
    "\n",
    "Since the beer names are not unique, we will use the beer IDs. Let's make a lookup table from `id` to name, so we can easily track the beer's name as well."
   ]
  },
  {
   "cell_type": "code",
   "execution_count": 8,
   "metadata": {
    "collapsed": true
   },
   "outputs": [],
   "source": [
    "beer_names = data.groupby('beer_beerid').beer_name.first()  # only one name per ID"
   ]
  },
  {
   "cell_type": "code",
   "execution_count": 9,
   "metadata": {},
   "outputs": [
    {
     "data": {
      "text/plain": [
       "beer_beerid\n",
       "3             Cactus Queen IPA\n",
       "4     Wildcatter's Crude Stout\n",
       "80         Organic Münster Alt\n",
       "81             Organic Ur Pils\n",
       "82         Organic Hefe-Weizen\n",
       "Name: beer_name, dtype: object"
      ]
     },
     "execution_count": 9,
     "metadata": {},
     "output_type": "execute_result"
    }
   ],
   "source": [
    "beer_names.head()"
   ]
  },
  {
   "cell_type": "markdown",
   "metadata": {},
   "source": [
    "Let's make sure we know the distribution of what we'd like to predict."
   ]
  },
  {
   "cell_type": "code",
   "execution_count": 11,
   "metadata": {},
   "outputs": [
    {
     "data": {
      "image/png": "[encoded data removed]",
      "text/plain": [
       "<matplotlib.figure.Figure at 0x104806090>"
      ]
     },
     "metadata": {},
     "output_type": "display_data"
    }
   ],
   "source": [
    "data.review_overall.hist(bins=10)\n",
    "plt.xlabel(\"review_overall\")\n",
    "plt.ylabel(\"Frequency\")\n",
    "plt.title(\"Overall beer rating\");"
   ]
  },
  {
   "cell_type": "markdown",
   "metadata": {},
   "source": [
    "Using .value_counts() can show the specific rating values:"
   ]
  },
  {
   "cell_type": "code",
   "execution_count": 12,
   "metadata": {},
   "outputs": [
    {
     "data": {
      "text/plain": [
       "4.0    56697\n",
       "4.5    33237\n",
       "3.5    26869\n",
       "3.0    14216\n",
       "5.0     8961\n",
       "2.5     4984\n",
       "2.0     3172\n",
       "1.5     1054\n",
       "1.0      807\n",
       "0.0        3\n",
       "Name: review_overall, dtype: int64"
      ]
     },
     "execution_count": 12,
     "metadata": {},
     "output_type": "execute_result"
    }
   ],
   "source": [
    "data.review_overall.value_counts()"
   ]
  },
  {
   "cell_type": "markdown",
   "metadata": {},
   "source": [
    "Also note that the beer-drinker reviews are not unique, as some people have filed multiple reviews per beer.  We generally take the average rating in such case."
   ]
  },
  {
   "cell_type": "code",
   "execution_count": 13,
   "metadata": {},
   "outputs": [
    {
     "data": {
      "text/plain": [
       "1    147421\n",
       "2       930\n",
       "3        13\n",
       "Name: review_overall, dtype: int64"
      ]
     },
     "execution_count": 13,
     "metadata": {},
     "output_type": "execute_result"
    }
   ],
   "source": [
    "n_reviews = data.groupby(['beer_beerid', 'review_profilename']).review_overall.nunique()\n",
    "n_reviews.value_counts()"
   ]
  },
  {
   "cell_type": "markdown",
   "metadata": {},
   "source": [
    "To s"
   ]
  },
  {
   "cell_type": "code",
   "execution_count": 27,
   "metadata": {},
   "outputs": [
    {
     "data": {
      "text/plain": [
       "beer_beerid  review_profilename\n",
       "28627        russpowell            3\n",
       "5441         Kadonny               3\n",
       "1493         atsprings             3\n",
       "2671         dcook11               3\n",
       "11757        ffejherb              3\n",
       "1798         francisweizen         3\n",
       "246          DoctorStrangiato      3\n",
       "1798         Gusler                3\n",
       "50081        Tilley4               3\n",
       "1654         pootz                 3\n",
       "31323        barleywinefiend       3\n",
       "12896        BretSikkink           3\n",
       "855          ClarkVV               3\n",
       "48971        barleywinefiend       2\n",
       "960          RedDiamond            2\n",
       "4374         barleywinefiend       2\n",
       "16074        objectivemonkey       2\n",
       "2671         ppoitras              2\n",
       "36960        DoctorStrangiato      2\n",
       "175          smibroncos            2\n",
       "56981        thagr81us             2\n",
       "960          OldFrothingSlosh      2\n",
       "1122         merlin48              2\n",
       "7324         merlin48              2\n",
       "46365        shand                 2\n",
       "             sholland119           2\n",
       "11757        RblWthACoz            2\n",
       "1904         thegodfather2701      2\n",
       "12896        tonistruth            2\n",
       "65050        Durge                 2\n",
       "                                  ..\n",
       "39289        woodychandler         1\n",
       "             taigor                1\n",
       "             stewart124            1\n",
       "             sc13ntific            1\n",
       "39299        ChainGangGuy          1\n",
       "39289        rapayn01              1\n",
       "             properhops            1\n",
       "             plinythethirsty       1\n",
       "             pinotboy007           1\n",
       "             mralphabet            1\n",
       "             kels                  1\n",
       "39299        BuckeyeNation         1\n",
       "             CortexBomb            1\n",
       "             Stinkypuss            1\n",
       "             MTNboy                1\n",
       "             Slynger               1\n",
       "             SafeAtFirst           1\n",
       "             Rzzzzz                1\n",
       "             PerzentRizen          1\n",
       "             PEBKAC                1\n",
       "             Monkeyknife           1\n",
       "             KI9A                  1\n",
       "             Cyberkedi             1\n",
       "             HopsAreOverrated      1\n",
       "             Goliath               1\n",
       "             Gehrig                1\n",
       "             FernMaster            1\n",
       "             Dogbrick              1\n",
       "             Dertbert              1\n",
       "3            Jason                 1\n",
       "Name: review_overall, dtype: int64"
      ]
     },
     "execution_count": 27,
     "metadata": {},
     "output_type": "execute_result"
    }
   ],
   "source": [
    "data.groupby(['beer_beerid', 'review_profilename']).review_overall.nunique().sort_values(ascending=False)"
   ]
  },
  {
   "cell_type": "markdown",
   "metadata": {},
   "source": [
    "<hr>\n",
    "## Content-based filtering\n",
    "\n",
    "Content-based filtering maps the data into a feature space, in which we can compare beers and drinkers.  Each beer will get a representation in this space (a high alcohol, IPA-like beer from Founders brewery).  Each drinker gets a taste profile (likes high alcohol beers, likes IPAs but dislikes anything from Founders).\n",
    "\n",
    "Unfortuantely we don't have many features: just three, really: brewery, style and alcohol percentage (ABV).  We can definitely create additional features by using each word from the beer style (e.g., \"IPA\" from \"Imperial IPA\") or its name even (e.g., \"Ginger\" from \"Caldera Ginger Beer\").  We will leave this as an exercise.\n",
    "\n",
    "We use the brewery as a feature, but it is not sure this is a useful feature, and it might cause overfitting."
   ]
  },
  {
   "cell_type": "markdown",
   "metadata": {},
   "source": [
    "#### Creating feature matrix\n",
    "\n",
    "We will categorize the ABV feature into bins."
   ]
  },
  {
   "cell_type": "markdown",
   "metadata": {},
   "source": [
    "From original code:\n",
    "```\n",
    "min_bin, max_bin = 4, 10\n",
    "abv = data.beer_abv.round()\n",
    "abv[abv <= min_bin] = min_bin  # low-alcohol beers in one bin\n",
    "abv[abv >= max_bin] = max_bin  # high-alcohol beers in one bin\n",
    "```"
   ]
  },
  {
   "cell_type": "code",
   "execution_count": 28,
   "metadata": {
    "collapsed": true
   },
   "outputs": [],
   "source": [
    "min_bin, max_bin = 4, 10\n",
    "abv = data.beer_abv.round()"
   ]
  },
  {
   "cell_type": "code",
   "execution_count": 29,
   "metadata": {},
   "outputs": [
    {
     "data": {
      "text/plain": [
       "6.0     32921\n",
       "5.0     26409\n",
       "7.0     20988\n",
       "8.0     18486\n",
       "10.0    16164\n",
       "9.0     10172\n",
       "4.0      8164\n",
       "11.0     4632\n",
       "12.0     4523\n",
       "3.0       668\n",
       "18.0      570\n",
       "14.0      481\n",
       "13.0      343\n",
       "16.0      118\n",
       "17.0       99\n",
       "15.0       54\n",
       "2.0        36\n",
       "0.0        26\n",
       "20.0       22\n",
       "1.0         6\n",
       "39.0        3\n",
       "43.0        2\n",
       "31.0        1\n",
       "58.0        1\n",
       "Name: beer_abv, dtype: int64"
      ]
     },
     "execution_count": 29,
     "metadata": {},
     "output_type": "execute_result"
    }
   ],
   "source": [
    "abv.value_counts()"
   ]
  },
  {
   "cell_type": "code",
   "execution_count": 30,
   "metadata": {},
   "outputs": [
    {
     "data": {
      "text/plain": [
       "6.0     32921\n",
       "5.0     26409\n",
       "7.0     20988\n",
       "8.0     18486\n",
       "10.0    16164\n",
       "9.0     10172\n",
       "4.0      8164\n",
       "11.0     4632\n",
       "12.0     4523\n",
       "3.0       668\n",
       "18.0      570\n",
       "14.0      481\n",
       "13.0      343\n",
       "16.0      118\n",
       "17.0       99\n",
       "15.0       54\n",
       "2.0        36\n",
       "0.0        26\n",
       "20.0       22\n",
       "1.0         6\n",
       "39.0        3\n",
       "43.0        2\n",
       "31.0        1\n",
       "58.0        1\n",
       "Name: beer_abv, dtype: int64"
      ]
     },
     "execution_count": 30,
     "metadata": {},
     "output_type": "execute_result"
    }
   ],
   "source": [
    "data.beer_abv.round().value_counts()"
   ]
  },
  {
   "cell_type": "code",
   "execution_count": 31,
   "metadata": {
    "collapsed": true
   },
   "outputs": [],
   "source": [
    "abv[abv <= min_bin] = min_bin"
   ]
  },
  {
   "cell_type": "code",
   "execution_count": 32,
   "metadata": {
    "collapsed": true
   },
   "outputs": [],
   "source": [
    "abv[abv >= max_bin] = max_bin"
   ]
  },
  {
   "cell_type": "code",
   "execution_count": 33,
   "metadata": {},
   "outputs": [
    {
     "data": {
      "text/plain": [
       "6.0     32921\n",
       "10.0    27013\n",
       "5.0     26409\n",
       "7.0     20988\n",
       "8.0     18486\n",
       "9.0     10172\n",
       "4.0      8900\n",
       "Name: beer_abv, dtype: int64"
      ]
     },
     "execution_count": 33,
     "metadata": {},
     "output_type": "execute_result"
    }
   ],
   "source": [
    "abv.value_counts()"
   ]
  },
  {
   "cell_type": "code",
   "execution_count": 34,
   "metadata": {},
   "outputs": [
    {
     "data": {
      "image/png": "[encoded data removed]",
      "text/plain": [
       "<matplotlib.figure.Figure at 0x118635610>"
      ]
     },
     "metadata": {},
     "output_type": "display_data"
    }
   ],
   "source": [
    "f, axes = plt.subplots(1, 2, figsize=(12, 4))\n",
    "f = data.beer_abv.hist(bins=range(0, 20), ax=axes[0])\n",
    "axes[0].set_title(\"% alc. by vol.\\nbefore binning\")\n",
    "f = abv.value_counts().sort_index().plot(\n",
    "    kind='bar', rot=0, ax=axes[1], title=\"% alc. by vol.\\nafter binning\")"
   ]
  },
  {
   "cell_type": "markdown",
   "metadata": {},
   "source": [
    "We convert numerical values to strings, so patsy will treat them as categorical features"
   ]
  },
  {
   "cell_type": "markdown",
   "metadata": {},
   "source": [
    "```\n",
    "data['beer_abv_cat'] = abv.dropna().astype(int).astype(str)\n",
    "data['brewery_id_str'] = data.brewery_id.astype(str)\n",
    "X_abv_brew = dmatrix('beer_abv_cat + brewery_id_str', data=data.fillna(0), return_type='dataframe')\n",
    "X_abv_brew.shape\n",
    "```\n"
   ]
  },
  {
   "cell_type": "code",
   "execution_count": 35,
   "metadata": {
    "collapsed": true
   },
   "outputs": [],
   "source": [
    "data['beer_abv_cat'] = abv.dropna().astype(int).astype(str)"
   ]
  },
  {
   "cell_type": "code",
   "execution_count": 36,
   "metadata": {
    "collapsed": true
   },
   "outputs": [],
   "source": [
    "data['brewery_id_str'] = data.brewery_id.astype(str)"
   ]
  },
  {
   "cell_type": "markdown",
   "metadata": {},
   "source": [
    "Creating the matrix with the new variables"
   ]
  },
  {
   "cell_type": "code",
   "execution_count": 37,
   "metadata": {
    "collapsed": true
   },
   "outputs": [],
   "source": [
    "X_abv_brew = dmatrix('beer_abv_cat + brewery_id_str', data=data.fillna(0), return_type='dataframe')"
   ]
  },
  {
   "cell_type": "code",
   "execution_count": 38,
   "metadata": {},
   "outputs": [
    {
     "data": {
      "text/plain": [
       "(150000, 596)"
      ]
     },
     "execution_count": 38,
     "metadata": {},
     "output_type": "execute_result"
    }
   ],
   "source": [
    "X_abv_brew.shape"
   ]
  },
  {
   "cell_type": "code",
   "execution_count": 39,
   "metadata": {},
   "outputs": [
    {
     "data": {
      "text/html": [
       "<div>\n",
       "<table border=\"1\" class=\"dataframe\">\n",
       "  <thead>\n",
       "    <tr style=\"text-align: right;\">\n",
       "      <th></th>\n",
       "      <th>Intercept</th>\n",
       "      <th>beer_abv_cat[T.10]</th>\n",
       "      <th>beer_abv_cat[T.4]</th>\n",
       "      <th>beer_abv_cat[T.5]</th>\n",
       "      <th>beer_abv_cat[T.6]</th>\n",
       "      <th>beer_abv_cat[T.7]</th>\n",
       "      <th>beer_abv_cat[T.8]</th>\n",
       "      <th>beer_abv_cat[T.9]</th>\n",
       "      <th>brewery_id_str[T.10101]</th>\n",
       "      <th>brewery_id_str[T.10103]</th>\n",
       "      <th>...</th>\n",
       "      <th>brewery_id_str[T.9483]</th>\n",
       "      <th>brewery_id_str[T.954]</th>\n",
       "      <th>brewery_id_str[T.9608]</th>\n",
       "      <th>brewery_id_str[T.9645]</th>\n",
       "      <th>brewery_id_str[T.971]</th>\n",
       "      <th>brewery_id_str[T.9729]</th>\n",
       "      <th>brewery_id_str[T.9734]</th>\n",
       "      <th>brewery_id_str[T.9816]</th>\n",
       "      <th>brewery_id_str[T.9827]</th>\n",
       "      <th>brewery_id_str[T.9932]</th>\n",
       "    </tr>\n",
       "  </thead>\n",
       "  <tbody>\n",
       "    <tr>\n",
       "      <th>0</th>\n",
       "      <td>1.0</td>\n",
       "      <td>0.0</td>\n",
       "      <td>0.0</td>\n",
       "      <td>1.0</td>\n",
       "      <td>0.0</td>\n",
       "      <td>0.0</td>\n",
       "      <td>0.0</td>\n",
       "      <td>0.0</td>\n",
       "      <td>0.0</td>\n",
       "      <td>0.0</td>\n",
       "      <td>...</td>\n",
       "      <td>0.0</td>\n",
       "      <td>0.0</td>\n",
       "      <td>0.0</td>\n",
       "      <td>0.0</td>\n",
       "      <td>0.0</td>\n",
       "      <td>0.0</td>\n",
       "      <td>0.0</td>\n",
       "      <td>0.0</td>\n",
       "      <td>0.0</td>\n",
       "      <td>0.0</td>\n",
       "    </tr>\n",
       "    <tr>\n",
       "      <th>1</th>\n",
       "      <td>1.0</td>\n",
       "      <td>0.0</td>\n",
       "      <td>0.0</td>\n",
       "      <td>0.0</td>\n",
       "      <td>1.0</td>\n",
       "      <td>0.0</td>\n",
       "      <td>0.0</td>\n",
       "      <td>0.0</td>\n",
       "      <td>0.0</td>\n",
       "      <td>0.0</td>\n",
       "      <td>...</td>\n",
       "      <td>0.0</td>\n",
       "      <td>0.0</td>\n",
       "      <td>0.0</td>\n",
       "      <td>0.0</td>\n",
       "      <td>0.0</td>\n",
       "      <td>0.0</td>\n",
       "      <td>0.0</td>\n",
       "      <td>0.0</td>\n",
       "      <td>0.0</td>\n",
       "      <td>0.0</td>\n",
       "    </tr>\n",
       "    <tr>\n",
       "      <th>2</th>\n",
       "      <td>1.0</td>\n",
       "      <td>0.0</td>\n",
       "      <td>0.0</td>\n",
       "      <td>0.0</td>\n",
       "      <td>1.0</td>\n",
       "      <td>0.0</td>\n",
       "      <td>0.0</td>\n",
       "      <td>0.0</td>\n",
       "      <td>0.0</td>\n",
       "      <td>0.0</td>\n",
       "      <td>...</td>\n",
       "      <td>0.0</td>\n",
       "      <td>0.0</td>\n",
       "      <td>0.0</td>\n",
       "      <td>0.0</td>\n",
       "      <td>0.0</td>\n",
       "      <td>0.0</td>\n",
       "      <td>0.0</td>\n",
       "      <td>0.0</td>\n",
       "      <td>0.0</td>\n",
       "      <td>0.0</td>\n",
       "    </tr>\n",
       "    <tr>\n",
       "      <th>3</th>\n",
       "      <td>1.0</td>\n",
       "      <td>0.0</td>\n",
       "      <td>0.0</td>\n",
       "      <td>1.0</td>\n",
       "      <td>0.0</td>\n",
       "      <td>0.0</td>\n",
       "      <td>0.0</td>\n",
       "      <td>0.0</td>\n",
       "      <td>0.0</td>\n",
       "      <td>0.0</td>\n",
       "      <td>...</td>\n",
       "      <td>0.0</td>\n",
       "      <td>0.0</td>\n",
       "      <td>0.0</td>\n",
       "      <td>0.0</td>\n",
       "      <td>0.0</td>\n",
       "      <td>0.0</td>\n",
       "      <td>0.0</td>\n",
       "      <td>0.0</td>\n",
       "      <td>0.0</td>\n",
       "      <td>0.0</td>\n",
       "    </tr>\n",
       "    <tr>\n",
       "      <th>4</th>\n",
       "      <td>1.0</td>\n",
       "      <td>0.0</td>\n",
       "      <td>0.0</td>\n",
       "      <td>0.0</td>\n",
       "      <td>0.0</td>\n",
       "      <td>0.0</td>\n",
       "      <td>1.0</td>\n",
       "      <td>0.0</td>\n",
       "      <td>0.0</td>\n",
       "      <td>0.0</td>\n",
       "      <td>...</td>\n",
       "      <td>0.0</td>\n",
       "      <td>0.0</td>\n",
       "      <td>0.0</td>\n",
       "      <td>0.0</td>\n",
       "      <td>0.0</td>\n",
       "      <td>0.0</td>\n",
       "      <td>0.0</td>\n",
       "      <td>0.0</td>\n",
       "      <td>0.0</td>\n",
       "      <td>0.0</td>\n",
       "    </tr>\n",
       "  </tbody>\n",
       "</table>\n",
       "<p>5 rows × 596 columns</p>\n",
       "</div>"
      ],
      "text/plain": [
       "   Intercept  beer_abv_cat[T.10]  beer_abv_cat[T.4]  beer_abv_cat[T.5]  \\\n",
       "0        1.0                 0.0                0.0                1.0   \n",
       "1        1.0                 0.0                0.0                0.0   \n",
       "2        1.0                 0.0                0.0                0.0   \n",
       "3        1.0                 0.0                0.0                1.0   \n",
       "4        1.0                 0.0                0.0                0.0   \n",
       "\n",
       "   beer_abv_cat[T.6]  beer_abv_cat[T.7]  beer_abv_cat[T.8]  beer_abv_cat[T.9]  \\\n",
       "0                0.0                0.0                0.0                0.0   \n",
       "1                1.0                0.0                0.0                0.0   \n",
       "2                1.0                0.0                0.0                0.0   \n",
       "3                0.0                0.0                0.0                0.0   \n",
       "4                0.0                0.0                1.0                0.0   \n",
       "\n",
       "   brewery_id_str[T.10101]  brewery_id_str[T.10103]           ...            \\\n",
       "0                      0.0                      0.0           ...             \n",
       "1                      0.0                      0.0           ...             \n",
       "2                      0.0                      0.0           ...             \n",
       "3                      0.0                      0.0           ...             \n",
       "4                      0.0                      0.0           ...             \n",
       "\n",
       "   brewery_id_str[T.9483]  brewery_id_str[T.954]  brewery_id_str[T.9608]  \\\n",
       "0                     0.0                    0.0                     0.0   \n",
       "1                     0.0                    0.0                     0.0   \n",
       "2                     0.0                    0.0                     0.0   \n",
       "3                     0.0                    0.0                     0.0   \n",
       "4                     0.0                    0.0                     0.0   \n",
       "\n",
       "   brewery_id_str[T.9645]  brewery_id_str[T.971]  brewery_id_str[T.9729]  \\\n",
       "0                     0.0                    0.0                     0.0   \n",
       "1                     0.0                    0.0                     0.0   \n",
       "2                     0.0                    0.0                     0.0   \n",
       "3                     0.0                    0.0                     0.0   \n",
       "4                     0.0                    0.0                     0.0   \n",
       "\n",
       "   brewery_id_str[T.9734]  brewery_id_str[T.9816]  brewery_id_str[T.9827]  \\\n",
       "0                     0.0                     0.0                     0.0   \n",
       "1                     0.0                     0.0                     0.0   \n",
       "2                     0.0                     0.0                     0.0   \n",
       "3                     0.0                     0.0                     0.0   \n",
       "4                     0.0                     0.0                     0.0   \n",
       "\n",
       "   brewery_id_str[T.9932]  \n",
       "0                     0.0  \n",
       "1                     0.0  \n",
       "2                     0.0  \n",
       "3                     0.0  \n",
       "4                     0.0  \n",
       "\n",
       "[5 rows x 596 columns]"
      ]
     },
     "execution_count": 39,
     "metadata": {},
     "output_type": "execute_result"
    }
   ],
   "source": [
    "X_abv_brew.head()"
   ]
  },
  {
   "cell_type": "code",
   "execution_count": 40,
   "metadata": {},
   "outputs": [
    {
     "data": {
      "text/plain": [
       "7"
      ]
     },
     "execution_count": 40,
     "metadata": {},
     "output_type": "execute_result"
    }
   ],
   "source": [
    "data.beer_abv_cat.nunique()"
   ]
  },
  {
   "cell_type": "code",
   "execution_count": 41,
   "metadata": {},
   "outputs": [
    {
     "data": {
      "text/plain": [
       "array(['5', '6', '8', '4', '7', nan, '9', '10'], dtype=object)"
      ]
     },
     "execution_count": 41,
     "metadata": {},
     "output_type": "execute_result"
    }
   ],
   "source": [
    "data.beer_abv_cat.unique()"
   ]
  },
  {
   "cell_type": "code",
   "execution_count": 42,
   "metadata": {},
   "outputs": [
    {
     "data": {
      "text/plain": [
       "Index([u'Intercept', u'beer_abv_cat[T.10]', u'beer_abv_cat[T.4]',\n",
       "       u'beer_abv_cat[T.5]', u'beer_abv_cat[T.6]', u'beer_abv_cat[T.7]',\n",
       "       u'beer_abv_cat[T.8]', u'beer_abv_cat[T.9]', u'brewery_id_str[T.10101]',\n",
       "       u'brewery_id_str[T.10103]',\n",
       "       ...\n",
       "       u'brewery_id_str[T.9483]', u'brewery_id_str[T.954]',\n",
       "       u'brewery_id_str[T.9608]', u'brewery_id_str[T.9645]',\n",
       "       u'brewery_id_str[T.971]', u'brewery_id_str[T.9729]',\n",
       "       u'brewery_id_str[T.9734]', u'brewery_id_str[T.9816]',\n",
       "       u'brewery_id_str[T.9827]', u'brewery_id_str[T.9932]'],\n",
       "      dtype='object', length=596)"
      ]
     },
     "execution_count": 42,
     "metadata": {},
     "output_type": "execute_result"
    }
   ],
   "source": [
    "X_abv_brew.columns"
   ]
  },
  {
   "cell_type": "code",
   "execution_count": 43,
   "metadata": {},
   "outputs": [
    {
     "data": {
      "text/plain": [
       "589"
      ]
     },
     "execution_count": 43,
     "metadata": {},
     "output_type": "execute_result"
    }
   ],
   "source": [
    "data.brewery_id_str.nunique()"
   ]
  },
  {
   "cell_type": "markdown",
   "metadata": {},
   "source": [
    "Let's use each word in the beer style as a feature as well (e.g., \"IPA\")"
   ]
  },
  {
   "cell_type": "code",
   "execution_count": 44,
   "metadata": {},
   "outputs": [
    {
     "name": "stdout",
     "output_type": "stream",
     "text": [
      "CPU times: user 2.07 s, sys: 139 ms, total: 2.21 s\n",
      "Wall time: 2.15 s\n"
     ]
    }
   ],
   "source": [
    "%%time\n",
    "max_features = 5000\n",
    "cv = CountVectorizer(max_features=max_features)\n",
    "X_style = cv.fit_transform(data.beer_style)"
   ]
  },
  {
   "cell_type": "code",
   "execution_count": 45,
   "metadata": {
    "collapsed": true
   },
   "outputs": [],
   "source": [
    "X = np.hstack([X_abv_brew, X_style.toarray()])\n",
    "y = data.review_overall\n",
    "n_samples, n_features = X.shape"
   ]
  },
  {
   "cell_type": "markdown",
   "metadata": {},
   "source": [
    "Done! Now we have a feature matrix $X$ with ratings in $y$, containing both beers and drinkers.\n",
    "\n",
    "#### Dot-product method\n",
    "\n",
    "Since the features only describe beer characteristics, each beer entry in $X$ has the same values for the same beer. So we can just take a beer's first occurance for its representation."
   ]
  },
  {
   "cell_type": "code",
   "execution_count": 46,
   "metadata": {},
   "outputs": [
    {
     "name": "stdout",
     "output_type": "stream",
     "text": [
      "(6420, 716)\n"
     ]
    },
    {
     "data": {
      "text/html": [
       "<div>\n",
       "<table border=\"1\" class=\"dataframe\">\n",
       "  <thead>\n",
       "    <tr style=\"text-align: right;\">\n",
       "      <th></th>\n",
       "      <th>0</th>\n",
       "      <th>1</th>\n",
       "      <th>2</th>\n",
       "      <th>3</th>\n",
       "      <th>4</th>\n",
       "      <th>5</th>\n",
       "      <th>6</th>\n",
       "      <th>7</th>\n",
       "      <th>8</th>\n",
       "      <th>9</th>\n",
       "      <th>...</th>\n",
       "      <th>706</th>\n",
       "      <th>707</th>\n",
       "      <th>708</th>\n",
       "      <th>709</th>\n",
       "      <th>710</th>\n",
       "      <th>711</th>\n",
       "      <th>712</th>\n",
       "      <th>713</th>\n",
       "      <th>714</th>\n",
       "      <th>715</th>\n",
       "    </tr>\n",
       "    <tr>\n",
       "      <th>beer_beerid</th>\n",
       "      <th></th>\n",
       "      <th></th>\n",
       "      <th></th>\n",
       "      <th></th>\n",
       "      <th></th>\n",
       "      <th></th>\n",
       "      <th></th>\n",
       "      <th></th>\n",
       "      <th></th>\n",
       "      <th></th>\n",
       "      <th></th>\n",
       "      <th></th>\n",
       "      <th></th>\n",
       "      <th></th>\n",
       "      <th></th>\n",
       "      <th></th>\n",
       "      <th></th>\n",
       "      <th></th>\n",
       "      <th></th>\n",
       "      <th></th>\n",
       "      <th></th>\n",
       "    </tr>\n",
       "  </thead>\n",
       "  <tbody>\n",
       "    <tr>\n",
       "      <th>3</th>\n",
       "      <td>1.0</td>\n",
       "      <td>0.0</td>\n",
       "      <td>0.0</td>\n",
       "      <td>0.0</td>\n",
       "      <td>0.0</td>\n",
       "      <td>0.0</td>\n",
       "      <td>0.0</td>\n",
       "      <td>0.0</td>\n",
       "      <td>0.0</td>\n",
       "      <td>0.0</td>\n",
       "      <td>...</td>\n",
       "      <td>0.0</td>\n",
       "      <td>0.0</td>\n",
       "      <td>0.0</td>\n",
       "      <td>0.0</td>\n",
       "      <td>0.0</td>\n",
       "      <td>0.0</td>\n",
       "      <td>0.0</td>\n",
       "      <td>0.0</td>\n",
       "      <td>0.0</td>\n",
       "      <td>0.0</td>\n",
       "    </tr>\n",
       "    <tr>\n",
       "      <th>4</th>\n",
       "      <td>1.0</td>\n",
       "      <td>0.0</td>\n",
       "      <td>0.0</td>\n",
       "      <td>0.0</td>\n",
       "      <td>0.0</td>\n",
       "      <td>0.0</td>\n",
       "      <td>0.0</td>\n",
       "      <td>0.0</td>\n",
       "      <td>0.0</td>\n",
       "      <td>0.0</td>\n",
       "      <td>...</td>\n",
       "      <td>0.0</td>\n",
       "      <td>0.0</td>\n",
       "      <td>0.0</td>\n",
       "      <td>0.0</td>\n",
       "      <td>0.0</td>\n",
       "      <td>0.0</td>\n",
       "      <td>0.0</td>\n",
       "      <td>0.0</td>\n",
       "      <td>0.0</td>\n",
       "      <td>0.0</td>\n",
       "    </tr>\n",
       "  </tbody>\n",
       "</table>\n",
       "<p>2 rows × 716 columns</p>\n",
       "</div>"
      ],
      "text/plain": [
       "             0    1    2    3    4    5    6    7    8    9   ...   706  707  \\\n",
       "beer_beerid                                                   ...              \n",
       "3            1.0  0.0  0.0  0.0  0.0  0.0  0.0  0.0  0.0  0.0 ...   0.0  0.0   \n",
       "4            1.0  0.0  0.0  0.0  0.0  0.0  0.0  0.0  0.0  0.0 ...   0.0  0.0   \n",
       "\n",
       "             708  709  710  711  712  713  714  715  \n",
       "beer_beerid                                          \n",
       "3            0.0  0.0  0.0  0.0  0.0  0.0  0.0  0.0  \n",
       "4            0.0  0.0  0.0  0.0  0.0  0.0  0.0  0.0  \n",
       "\n",
       "[2 rows x 716 columns]"
      ]
     },
     "execution_count": 46,
     "metadata": {},
     "output_type": "execute_result"
    }
   ],
   "source": [
    "uniques, idx = np.unique(data.beer_beerid, return_index=True)\n",
    "beer_features = pd.DataFrame(X[idx, :], index=data.beer_beerid[idx])\n",
    "print beer_features.shape\n",
    "beer_features.head(2)"
   ]
  },
  {
   "cell_type": "markdown",
   "metadata": {},
   "source": [
    "A drinker, however, has different ratings for each beer. Per entry, we will broadcast his or her ratings over the features.\n",
    "\n",
    "For example,\n",
    "\n",
    "            low-abv  high-abv  IPA  Stout  Pilsner rating\n",
    "    beer 1     1        0       0     0       1     2.0\n",
    "    beer 2     0        1       1     0       0     4.5\n",
    "    \n",
    "...will become...\n",
    "\n",
    "            low-abv  high-abv  IPA  Stout  Pilsner\n",
    "    beer 1    2.0       0       0     0      2.0\n",
    "    beer 2     0       4.5     4.5    0       0 \n",
    "    \n",
    "... and then we average all ratings per user to get a user profile. We also subtract 3 from each rating, so bad ratings are negative and good ratings positives. This is to compensate for all missing entries, which automoatically get a zero-rating (and are now rated as average, instead of terribly bad)."
   ]
  },
  {
   "cell_type": "code",
   "execution_count": 47,
   "metadata": {},
   "outputs": [
    {
     "name": "stdout",
     "output_type": "stream",
     "text": [
      "CPU times: user 1.62 s, sys: 1.08 s, total: 2.71 s\n",
      "Wall time: 2.68 s\n"
     ]
    }
   ],
   "source": [
    "%%time\n",
    "reviewer_features = pd.DataFrame(X * (data.review_overall.values - 3).reshape(n_samples, 1))\n",
    "reviewer_features['review_profilename'] = data.review_profilename\n",
    "reviewer_features = reviewer_features.groupby('review_profilename')[range(n_features)].mean()\n",
    "reviewer_features = reviewer_features.divide(reviewer_features.sum(axis=1), axis=0)"
   ]
  },
  {
   "cell_type": "code",
   "execution_count": 48,
   "metadata": {},
   "outputs": [
    {
     "data": {
      "text/html": [
       "<div>\n",
       "<table border=\"1\" class=\"dataframe\">\n",
       "  <thead>\n",
       "    <tr style=\"text-align: right;\">\n",
       "      <th></th>\n",
       "      <th>0</th>\n",
       "      <th>1</th>\n",
       "      <th>2</th>\n",
       "      <th>3</th>\n",
       "      <th>4</th>\n",
       "      <th>5</th>\n",
       "      <th>6</th>\n",
       "      <th>7</th>\n",
       "      <th>8</th>\n",
       "      <th>9</th>\n",
       "      <th>...</th>\n",
       "      <th>706</th>\n",
       "      <th>707</th>\n",
       "      <th>708</th>\n",
       "      <th>709</th>\n",
       "      <th>710</th>\n",
       "      <th>711</th>\n",
       "      <th>712</th>\n",
       "      <th>713</th>\n",
       "      <th>714</th>\n",
       "      <th>715</th>\n",
       "    </tr>\n",
       "    <tr>\n",
       "      <th>review_profilename</th>\n",
       "      <th></th>\n",
       "      <th></th>\n",
       "      <th></th>\n",
       "      <th></th>\n",
       "      <th></th>\n",
       "      <th></th>\n",
       "      <th></th>\n",
       "      <th></th>\n",
       "      <th></th>\n",
       "      <th></th>\n",
       "      <th></th>\n",
       "      <th></th>\n",
       "      <th></th>\n",
       "      <th></th>\n",
       "      <th></th>\n",
       "      <th></th>\n",
       "      <th></th>\n",
       "      <th></th>\n",
       "      <th></th>\n",
       "      <th></th>\n",
       "      <th></th>\n",
       "    </tr>\n",
       "  </thead>\n",
       "  <tbody>\n",
       "    <tr>\n",
       "      <th>0110x011</th>\n",
       "      <td>0.168582</td>\n",
       "      <td>0.08046</td>\n",
       "      <td>0.0</td>\n",
       "      <td>0.0</td>\n",
       "      <td>0.038314</td>\n",
       "      <td>0.022989</td>\n",
       "      <td>0.030651</td>\n",
       "      <td>-0.003831</td>\n",
       "      <td>0.0</td>\n",
       "      <td>0.0</td>\n",
       "      <td>...</td>\n",
       "      <td>0.0</td>\n",
       "      <td>0.0</td>\n",
       "      <td>0.0</td>\n",
       "      <td>0.0</td>\n",
       "      <td>0.0</td>\n",
       "      <td>0.000000</td>\n",
       "      <td>0.011494</td>\n",
       "      <td>0.0</td>\n",
       "      <td>0.003831</td>\n",
       "      <td>0.0</td>\n",
       "    </tr>\n",
       "    <tr>\n",
       "      <th>05Harley</th>\n",
       "      <td>0.173554</td>\n",
       "      <td>0.07438</td>\n",
       "      <td>0.0</td>\n",
       "      <td>0.0</td>\n",
       "      <td>0.024793</td>\n",
       "      <td>0.041322</td>\n",
       "      <td>0.016529</td>\n",
       "      <td>0.016529</td>\n",
       "      <td>0.0</td>\n",
       "      <td>0.0</td>\n",
       "      <td>...</td>\n",
       "      <td>0.0</td>\n",
       "      <td>0.0</td>\n",
       "      <td>0.0</td>\n",
       "      <td>0.0</td>\n",
       "      <td>0.0</td>\n",
       "      <td>-0.008264</td>\n",
       "      <td>0.000000</td>\n",
       "      <td>0.0</td>\n",
       "      <td>0.000000</td>\n",
       "      <td>0.0</td>\n",
       "    </tr>\n",
       "  </tbody>\n",
       "</table>\n",
       "<p>2 rows × 716 columns</p>\n",
       "</div>"
      ],
      "text/plain": [
       "                         0        1    2    3         4         5         6    \\\n",
       "review_profilename                                                              \n",
       "0110x011            0.168582  0.08046  0.0  0.0  0.038314  0.022989  0.030651   \n",
       "05Harley            0.173554  0.07438  0.0  0.0  0.024793  0.041322  0.016529   \n",
       "\n",
       "                         7    8    9   ...   706  707  708  709  710  \\\n",
       "review_profilename                     ...                             \n",
       "0110x011           -0.003831  0.0  0.0 ...   0.0  0.0  0.0  0.0  0.0   \n",
       "05Harley            0.016529  0.0  0.0 ...   0.0  0.0  0.0  0.0  0.0   \n",
       "\n",
       "                         711       712  713       714  715  \n",
       "review_profilename                                          \n",
       "0110x011            0.000000  0.011494  0.0  0.003831  0.0  \n",
       "05Harley           -0.008264  0.000000  0.0  0.000000  0.0  \n",
       "\n",
       "[2 rows x 716 columns]"
      ]
     },
     "execution_count": 48,
     "metadata": {},
     "output_type": "execute_result"
    }
   ],
   "source": [
    "reviewer_features.head(2)"
   ]
  },
  {
   "cell_type": "markdown",
   "metadata": {},
   "source": [
    "We now simply take the dot product of the beer vector and the drinker vector.  This means that we will add a user's ratings for each of the beer's features.  \n",
    "\n",
    "Let's pick an arbitrary user."
   ]
  },
  {
   "cell_type": "code",
   "execution_count": 49,
   "metadata": {
    "collapsed": true
   },
   "outputs": [],
   "source": [
    "user = 'WesWes'"
   ]
  },
  {
   "cell_type": "markdown",
   "metadata": {},
   "source": [
    "Compute user's vector and all beer vectors, and take dot product."
   ]
  },
  {
   "cell_type": "code",
   "execution_count": 50,
   "metadata": {},
   "outputs": [
    {
     "name": "stdout",
     "output_type": "stream",
     "text": [
      "Top recommendations for WesWes\n",
      "beer_name\n",
      "Sierra Nevada Pale Ale                  0.409924\n",
      "Extra Special Pale Ale (ESP)            0.409924\n",
      "Founders Brassworks Ale                 0.404890\n",
      "Allocation Ale - Beer Camp #52          0.401654\n",
      "Sierra Nevada Draught Style Pale Ale    0.401654\n",
      "Name: predictions, dtype: float64\n",
      "\n",
      "Bottom  recommendations (don't drink these, WesWes!)\n",
      "beer_name\n",
      "Europa Schwartz Pils         0.174038\n",
      "Bald Eagle Kristallweizen    0.174038\n",
      "Roggenbier                   0.174038\n",
      "Zwickelbier                  0.174038\n",
      "Replic Ale (2010)            0.174038\n",
      "Name: predictions, dtype: float64\n"
     ]
    }
   ],
   "source": [
    "v = reviewer_features.loc[user].values\n",
    "M = beer_features.values\n",
    "pred = M.dot(v)\n",
    "\n",
    "# Now index this vector with the actual beers, so we can understand the values\n",
    "pred = pd.Series(pred, index=beer_features.index, name=\"predictions\") \\\n",
    "    .sort_values(ascending=False, inplace=False)\n",
    "pred_name = pd.Series(pred.values, beer_names[pred.index], name=pred.name)\n",
    "\n",
    "print \"Top recommendations for %s\" % user\n",
    "print pred_name.head()\n",
    "\n",
    "print \"\\nBottom  recommendations (don't drink these, %s!)\" % user\n",
    "print pred_name.tail()"
   ]
  },
  {
   "cell_type": "markdown",
   "metadata": {},
   "source": [
    "How do they compare with his actual reviews?  (Note that we take the mean since multiple reviews per drinker-beer pair occur.)"
   ]
  },
  {
   "cell_type": "code",
   "execution_count": 52,
   "metadata": {},
   "outputs": [
    {
     "name": "stdout",
     "output_type": "stream",
     "text": [
      "Top reviewed by WesWes\n",
      "beer_name\n",
      "Black Tuesday                              5.0\n",
      "Founders KBS (Kentucky Breakfast Stout)    5.0\n",
      "Northern Hemisphere Harvest Wet Hop Ale    5.0\n",
      "Stoudt's Double IPA (India Pale Ale)       5.0\n",
      "Founders CBS Imperial Stout                5.0\n",
      "dtype: float64\n",
      "\n",
      "Bottom reviewed by WesWes\n",
      "beer_name\n",
      "Weizen Berry                               3.0\n",
      "Heineken Premium Light Lager               3.0\n",
      "Pikop Andropov's Rushin' Imperial Stout    3.0\n",
      "ESB Amber Ale                              3.0\n",
      "Organic Münster Alt                        3.0\n",
      "dtype: float64\n"
     ]
    }
   ],
   "source": [
    "my_reviews = data[data.review_profilename == user].groupby('beer_beerid').review_overall.mean()\\\n",
    "    .sort_values(ascending=False, inplace=False)\n",
    "my_reviews_name = pd.Series(my_reviews.values, index=beer_names[my_reviews.index])\n",
    "print \"Top reviewed by %s\" % user\n",
    "print my_reviews_name.head()\n",
    "print \"\\nBottom reviewed by %s\" % user\n",
    "print my_reviews_name.tail()"
   ]
  },
  {
   "cell_type": "markdown",
   "metadata": {},
   "source": [
    "Let's compare them all."
   ]
  },
  {
   "cell_type": "code",
   "execution_count": 53,
   "metadata": {},
   "outputs": [
    {
     "data": {
      "image/png": "[encoded data removed]",
      "text/plain": [
       "<matplotlib.figure.Figure at 0x11a7e1850>"
      ]
     },
     "metadata": {},
     "output_type": "display_data"
    }
   ],
   "source": [
    "f = sb.regplot(my_reviews, pred[list(my_reviews.index)], scatter_kws=dict(alpha=.4))"
   ]
  },
  {
   "cell_type": "markdown",
   "metadata": {
    "collapsed": true
   },
   "source": [
    "Not bad. Note that we completely ignored overfitting and cross validation for readability's sake.\n",
    "\n",
    "#### Linear Regression\n",
    "\n",
    "Given this feature matrix and user reviews, we could also use a simple linear regression to predict a review for a user.  We will limit our dataset to the reviews of one user only, and then feed those into the model."
   ]
  },
  {
   "cell_type": "code",
   "execution_count": 54,
   "metadata": {},
   "outputs": [
    {
     "name": "stdout",
     "output_type": "stream",
     "text": [
      "Filtering reviews by WesWes.\n",
      "(253, 716) (253,)\n"
     ]
    }
   ],
   "source": [
    "print \"Filtering reviews by %s.\" % user\n",
    "idx = (data.review_profilename == user).values  # filter reviews of user\n",
    "X_user, y_user = X[idx, :], y[idx]\n",
    "print X_user.shape, y_user.shape"
   ]
  },
  {
   "cell_type": "code",
   "execution_count": 55,
   "metadata": {},
   "outputs": [
    {
     "name": "stdout",
     "output_type": "stream",
     "text": [
      "[-0.42260271 -0.39218923 -0.38307428]\n",
      "[-0.22913789 -0.14327301  0.04404437]\n"
     ]
    },
    {
     "name": "stderr",
     "output_type": "stream",
     "text": [
      "/Users/alonavarshal/anaconda/lib/python2.7/site-packages/sklearn/metrics/scorer.py:90: DeprecationWarning: Scoring method mean_absolute_error was renamed to neg_mean_absolute_error in version 0.18 and will be removed in 0.20.\n",
      "  sample_weight=sample_weight)\n",
      "/Users/alonavarshal/anaconda/lib/python2.7/site-packages/sklearn/metrics/scorer.py:90: DeprecationWarning: Scoring method mean_absolute_error was renamed to neg_mean_absolute_error in version 0.18 and will be removed in 0.20.\n",
      "  sample_weight=sample_weight)\n",
      "/Users/alonavarshal/anaconda/lib/python2.7/site-packages/sklearn/metrics/scorer.py:90: DeprecationWarning: Scoring method mean_absolute_error was renamed to neg_mean_absolute_error in version 0.18 and will be removed in 0.20.\n",
      "  sample_weight=sample_weight)\n"
     ]
    }
   ],
   "source": [
    "model = Ridge()\n",
    "model.fit(X_user, y_user)\n",
    "print cross_val_score(model, X_user, y_user, scoring='mean_absolute_error')\n",
    "print cross_val_score(model, X_user, y_user, scoring='r2')"
   ]
  },
  {
   "cell_type": "markdown",
   "metadata": {},
   "source": [
    "Pretty bad cross-validation scores, but mind you we have only a handful reviews."
   ]
  },
  {
   "cell_type": "code",
   "execution_count": 57,
   "metadata": {},
   "outputs": [
    {
     "name": "stdout",
     "output_type": "stream",
     "text": [
      "Top recommendations for WesWes.\n",
      "beer_name\n",
      "Sierra Nevada Imperial Stout                               4.796611\n",
      "Able I.P.A.                                                4.790692\n",
      "The Colonel's Porter                                       4.780963\n",
      "The Colonel's Porter (Cask Primed With English Treacle)    4.780963\n",
      "Samson                                                     4.752497\n",
      "Name: predictions, dtype: float64\n"
     ]
    }
   ],
   "source": [
    "uniques, idx = np.unique(data.beer_beerid, return_index=True)  # find beer labels\n",
    "pred = pd.Series(model.predict(X[idx, :]), index=data.beer_beerid[idx], name=\"predictions\") \\\n",
    "    .sort_values(ascending=False, inplace=False)\n",
    "pred_name = pd.Series(pred.values, beer_names[pred.index], name=\"predictions\")\n",
    "print \"Top recommendations for %s.\" % user\n",
    "print pred_name[:5]"
   ]
  },
  {
   "cell_type": "markdown",
   "metadata": {},
   "source": [
    "Let's see how those relate to his actual reviews."
   ]
  },
  {
   "cell_type": "code",
   "execution_count": 58,
   "metadata": {
    "scrolled": true
   },
   "outputs": [
    {
     "data": {
      "image/png": "[encoded data removed]",
      "text/plain": [
       "<matplotlib.figure.Figure at 0x10455b550>"
      ]
     },
     "metadata": {},
     "output_type": "display_data"
    }
   ],
   "source": [
    "f = sb.regplot(my_reviews, pred[list(my_reviews.index)], scatter_kws=dict(alpha=.4))"
   ]
  },
  {
   "cell_type": "markdown",
   "metadata": {},
   "source": [
    "Pretty spectacular. \n",
    "\n",
    "Just for the fun of it, how will this user rate a random beer?"
   ]
  },
  {
   "cell_type": "code",
   "execution_count": 59,
   "metadata": {},
   "outputs": [
    {
     "name": "stdout",
     "output_type": "stream",
     "text": [
      "WesWes will give beer HATER a rating of 3.9\n"
     ]
    },
    {
     "name": "stderr",
     "output_type": "stream",
     "text": [
      "/Users/alonavarshal/anaconda/lib/python2.7/site-packages/sklearn/utils/validation.py:395: DeprecationWarning: Passing 1d arrays as data is deprecated in 0.17 and will raise ValueError in 0.19. Reshape your data either using X.reshape(-1, 1) if your data has a single feature or X.reshape(1, -1) if it contains a single sample.\n",
      "  DeprecationWarning)\n"
     ]
    }
   ],
   "source": [
    "beer = np.random.choice(beer_names.index)\n",
    "beer_idx = (data.beer_beerid == beer).values\n",
    "X_beer = X[beer_idx, :][0]  # just take the first entry\n",
    "print \"%s will give beer %s a rating of %.1f\" % (user, beer_names[beer], model.predict(X_beer)[0])"
   ]
  },
  {
   "cell_type": "markdown",
   "metadata": {},
   "source": [
    "<hr>\n",
    "\n",
    "## Collaborative filtering\n",
    "\n",
    "With content-based filtering, we mapped our items and users into some feature space, in which we did our calculations. With _collaborative filtering_, however, we will not use any external features, but compare items with users directly.  This has as a great advantage we can give recommendations based on seemingly unrelated topics.  For example, we can keep track of someone's beer and movie ratings, and predict beer tastes based on someone's movie preferences (assuming there's a correlation between the two).\n",
    "\n",
    "We have two kinds of collaborative filtering, _item-based_ and _model-based_.\n",
    "\n",
    "### Item-based collaborative filtering\n",
    "\n",
    "For _item-based collaborative filtering_, recommendations for are user are based on similar items that the user has already rated highly. It's the approach known as \"because you liked this, we think you'd also like this..\".  This method is also called _memory-based collaborative filtering_.  These neighborhood methods are popular and easy to understand, but they don’t scale well. "
   ]
  },
  {
   "cell_type": "code",
   "execution_count": 60,
   "metadata": {
    "scrolled": true
   },
   "outputs": [
    {
     "data": {
      "text/html": [
       "<div>\n",
       "<table border=\"1\" class=\"dataframe\">\n",
       "  <thead>\n",
       "    <tr style=\"text-align: right;\">\n",
       "      <th>review_profilename</th>\n",
       "      <th>0110x011</th>\n",
       "      <th>05Harley</th>\n",
       "      <th>0tt0</th>\n",
       "      <th>100floods</th>\n",
       "      <th>100proof</th>\n",
       "      <th>1099.0</th>\n",
       "      <th>110toyourleft</th>\n",
       "      <th>1121987.0</th>\n",
       "      <th>11osixBrew</th>\n",
       "      <th>11thFloorBrewing</th>\n",
       "      <th>...</th>\n",
       "      <th>ztruempy</th>\n",
       "      <th>zuccard</th>\n",
       "      <th>zuffenhausen</th>\n",
       "      <th>zuggy9</th>\n",
       "      <th>zuker</th>\n",
       "      <th>zumicroom</th>\n",
       "      <th>zwoehr</th>\n",
       "      <th>zymurgy4all</th>\n",
       "      <th>zymurgywhiz</th>\n",
       "      <th>zythus</th>\n",
       "    </tr>\n",
       "    <tr>\n",
       "      <th>beer_beerid</th>\n",
       "      <th></th>\n",
       "      <th></th>\n",
       "      <th></th>\n",
       "      <th></th>\n",
       "      <th></th>\n",
       "      <th></th>\n",
       "      <th></th>\n",
       "      <th></th>\n",
       "      <th></th>\n",
       "      <th></th>\n",
       "      <th></th>\n",
       "      <th></th>\n",
       "      <th></th>\n",
       "      <th></th>\n",
       "      <th></th>\n",
       "      <th></th>\n",
       "      <th></th>\n",
       "      <th></th>\n",
       "      <th></th>\n",
       "      <th></th>\n",
       "      <th></th>\n",
       "    </tr>\n",
       "  </thead>\n",
       "  <tbody>\n",
       "    <tr>\n",
       "      <th>3</th>\n",
       "      <td>0.0</td>\n",
       "      <td>0.0</td>\n",
       "      <td>0.0</td>\n",
       "      <td>0.0</td>\n",
       "      <td>0.0</td>\n",
       "      <td>0.0</td>\n",
       "      <td>0.0</td>\n",
       "      <td>0.0</td>\n",
       "      <td>0.0</td>\n",
       "      <td>0.0</td>\n",
       "      <td>...</td>\n",
       "      <td>0.0</td>\n",
       "      <td>0.0</td>\n",
       "      <td>0.0</td>\n",
       "      <td>0.0</td>\n",
       "      <td>0.0</td>\n",
       "      <td>0.0</td>\n",
       "      <td>0.0</td>\n",
       "      <td>0.0</td>\n",
       "      <td>0.0</td>\n",
       "      <td>0.0</td>\n",
       "    </tr>\n",
       "    <tr>\n",
       "      <th>4</th>\n",
       "      <td>0.0</td>\n",
       "      <td>0.0</td>\n",
       "      <td>0.0</td>\n",
       "      <td>0.0</td>\n",
       "      <td>0.0</td>\n",
       "      <td>0.0</td>\n",
       "      <td>0.0</td>\n",
       "      <td>0.0</td>\n",
       "      <td>0.0</td>\n",
       "      <td>0.0</td>\n",
       "      <td>...</td>\n",
       "      <td>0.0</td>\n",
       "      <td>0.0</td>\n",
       "      <td>0.0</td>\n",
       "      <td>0.0</td>\n",
       "      <td>0.0</td>\n",
       "      <td>0.0</td>\n",
       "      <td>0.0</td>\n",
       "      <td>0.0</td>\n",
       "      <td>0.0</td>\n",
       "      <td>0.0</td>\n",
       "    </tr>\n",
       "  </tbody>\n",
       "</table>\n",
       "<p>2 rows × 13964 columns</p>\n",
       "</div>"
      ],
      "text/plain": [
       "review_profilename  0110x011  05Harley  0tt0  100floods  100proof  1099.0  \\\n",
       "beer_beerid                                                                 \n",
       "3                        0.0       0.0   0.0        0.0       0.0     0.0   \n",
       "4                        0.0       0.0   0.0        0.0       0.0     0.0   \n",
       "\n",
       "review_profilename  110toyourleft  1121987.0  11osixBrew  11thFloorBrewing  \\\n",
       "beer_beerid                                                                  \n",
       "3                             0.0        0.0         0.0               0.0   \n",
       "4                             0.0        0.0         0.0               0.0   \n",
       "\n",
       "review_profilename   ...    ztruempy  zuccard  zuffenhausen  zuggy9  zuker  \\\n",
       "beer_beerid          ...                                                     \n",
       "3                    ...         0.0      0.0           0.0     0.0    0.0   \n",
       "4                    ...         0.0      0.0           0.0     0.0    0.0   \n",
       "\n",
       "review_profilename  zumicroom  zwoehr  zymurgy4all  zymurgywhiz  zythus  \n",
       "beer_beerid                                                              \n",
       "3                         0.0     0.0          0.0          0.0     0.0  \n",
       "4                         0.0     0.0          0.0          0.0     0.0  \n",
       "\n",
       "[2 rows x 13964 columns]"
      ]
     },
     "execution_count": 60,
     "metadata": {},
     "output_type": "execute_result"
    }
   ],
   "source": [
    "# Create beer x drinker preference matrix\n",
    "M = data.groupby(['beer_beerid', 'review_profilename']).review_overall.mean().unstack()\n",
    "M = np.maximum(-1, (M - 3).fillna(0) / 2.)  # scale to -1..+1  (treat \"0\" scores as \"1\" scores)\n",
    "M.head(2)"
   ]
  },
  {
   "cell_type": "code",
   "execution_count": 61,
   "metadata": {},
   "outputs": [
    {
     "name": "stdout",
     "output_type": "stream",
     "text": [
      "CPU times: user 1min 7s, sys: 1.59 s, total: 1min 8s\n",
      "Wall time: 39.7 s\n"
     ]
    }
   ],
   "source": [
    "%%time\n",
    "n_ratings = data.groupby(['beer_beerid', 'review_profilename']).size()\n",
    "n_ratings[n_ratings  > 1] = 1  # just keep 1 or 0 for user-beer rating\n",
    "n_ratings = n_ratings.unstack().fillna(0)  # create matrix, fill empty cells with 0\n",
    "n_ratings = n_ratings.dot(n_ratings.T)  # how many ratings do two beers have in common?"
   ]
  },
  {
   "cell_type": "code",
   "execution_count": 62,
   "metadata": {},
   "outputs": [
    {
     "name": "stdout",
     "output_type": "stream",
     "text": [
      "CPU times: user 1.64 s, sys: 870 ms, total: 2.51 s\n",
      "Wall time: 3.03 s\n"
     ]
    }
   ],
   "source": [
    "%%time\n",
    "# if we have `ignore_up_to_n` or less common ratings between two beers, just ignore it\n",
    "ignore_up_to_n = 3\n",
    "n_ratings = np.maximum(ignore_up_to_n, n_ratings).replace(ignore_up_to_n, np.nan)"
   ]
  },
  {
   "cell_type": "code",
   "execution_count": 63,
   "metadata": {},
   "outputs": [
    {
     "name": "stdout",
     "output_type": "stream",
     "text": [
      "CPU times: user 1min 7s, sys: 1.25 s, total: 1min 8s\n",
      "Wall time: 37.2 s\n"
     ]
    }
   ],
   "source": [
    "%%time\n",
    "sim = M.dot(M.T)  # total score in common between two beers\n",
    "sim = sim / n_ratings  # scale so we get an average score (not a sum)\n",
    "# note that if we have no common ratings, we get a NaN now"
   ]
  },
  {
   "cell_type": "code",
   "execution_count": 64,
   "metadata": {
    "collapsed": true
   },
   "outputs": [],
   "source": [
    "n_ratings = data.groupby(['beer_beerid']).size()\n",
    "beers = n_ratings[n_ratings > 10].index"
   ]
  },
  {
   "cell_type": "code",
   "execution_count": 65,
   "metadata": {},
   "outputs": [
    {
     "name": "stdout",
     "output_type": "stream",
     "text": [
      "\n",
      "-- Pike Dry Wit --\n",
      "MOST  similar: Founders CBS Imperial Stout, Founders Imperial Stout, Founders Centennial IPA, Founders Red's Rye PA, Hoppin' To Heaven IPA\n",
      "LEAST similar: Hale's Kölsch, Hite, Oktober Fest, 3 French Hens, Amstel Light\n",
      "\n",
      "-- Urban Wilderness Pale Ale --\n",
      "MOST  similar: Stoudt's Fat Dog (Imperial Oatmeal Stout), Founders Dirty Bastard, Urban Wilderness Pale Ale, Sierra Nevada Torpedo Extra IPA, Founders KBS (Kentucky Breakfast Stout)\n",
      "LEAST similar: Midnight Expression, Sierra Nevada Anniversary Ale (2007-2009), 2nd Anniversary Double IPA, Heineken Lager Beer, Founders Devil Dancer\n",
      "\n",
      "-- Founders Devil Dancer --\n",
      "MOST  similar: Barleywine Ale (Matured In E. DuPont Calvados Wooden Barrels), Big Bad Dog, Mike Duggan #03 German Pilsner, Mike Duggan #05 Asian Lager, 440 Pepper Smoker\n",
      "LEAST similar: Bière Du Démon, Dog Bite High Gravity Lager, Martens Low Carbohydrate, Ohota Krepkoye (Strong), Faxe Extra Strong\n",
      "\n",
      "-- Trade Winds --\n",
      "MOST  similar: Founders Breakfast Stout, Weltenburger Kloster Asam-Bock, Sierra Nevada Southern Hemisphere Harvest Fresh Hop Ale, Trade Winds, Sierra Nevada Kellerweis Hefeweizen\n",
      "LEAST similar: Bateman's Combined Harvest, Coopers Original Pale Ale, Amstel Lager, Super Bock, Carling\n",
      "\n",
      "-- Genesee Ice Beer --\n",
      "MOST  similar: Faxe Extra Strong, St. Ides High Gravity Malt Liquor, Castle Lager, Genesee Ice Beer, Horse Piss Beer\n",
      "LEAST similar: Newport Storm '05, José Martí India Porter, Silk Porter, Exit 16, Ghidorah Double IPA - Beer Camp #29\n",
      "\n"
     ]
    },
    {
     "name": "stderr",
     "output_type": "stream",
     "text": [
      "/Users/alonavarshal/anaconda/lib/python2.7/site-packages/ipykernel/__main__.py:6: FutureWarning: sort is deprecated, use sort_values(inplace=True) for INPLACE sorting\n"
     ]
    }
   ],
   "source": [
    "n_beers = 5\n",
    "top = 5\n",
    "print \n",
    "for beer in np.random.choice(beers, n_beers):\n",
    "    print \"--\", beer_names[beer], \"--\"\n",
    "    sim_beers = sim[beer].sort(ascending=False, inplace=False).dropna()\n",
    "    if len(sim_beers) == 0:\n",
    "        print \"Not enough comparisons\"\n",
    "    else:\n",
    "        print \"MOST  similar:\", \", \".join(beer_names[list(sim_beers.head(top).index)])\n",
    "        print \"LEAST similar:\", \", \".join(beer_names[list(sim_beers.tail(top).index)])\n",
    "    print"
   ]
  },
  {
   "cell_type": "markdown",
   "metadata": {},
   "source": [
    "Hmm, not super convincing yet.\n",
    "\n",
    "#### Recommendations for a user\n",
    "\n",
    "Let's look at our old friend again."
   ]
  },
  {
   "cell_type": "code",
   "execution_count": 66,
   "metadata": {},
   "outputs": [
    {
     "name": "stdout",
     "output_type": "stream",
     "text": [
      "Top reviews by WesWes.\n",
      "beer_name\n",
      "Black Tuesday                              5.0\n",
      "Founders KBS (Kentucky Breakfast Stout)    5.0\n",
      "Northern Hemisphere Harvest Wet Hop Ale    5.0\n",
      "Stoudt's Double IPA (India Pale Ale)       5.0\n",
      "Founders CBS Imperial Stout                5.0\n",
      "dtype: float64\n"
     ]
    }
   ],
   "source": [
    "print \"Top reviews by %s.\" % user\n",
    "print my_reviews_name.head()"
   ]
  },
  {
   "cell_type": "code",
   "execution_count": 67,
   "metadata": {},
   "outputs": [
    {
     "name": "stdout",
     "output_type": "stream",
     "text": [
      "Top recommendations for WesWes\n",
      "beer_name\n",
      "Funky Barrel                       0.637500\n",
      "Hop Project #21                    0.566406\n",
      "The Worthy Adversary               0.562500\n",
      "Wobbly Bob APA                     0.557500\n",
      "Founders Hop Spit Punk Rock IPA    0.544922\n",
      "dtype: float64\n",
      "\n",
      "Bottom  recommendations (don't drink these, WesWes!)\n",
      "beer_name\n",
      "Golden Zhujiang        -0.328125\n",
      "Trafalgar Maple Bock   -0.331760\n",
      "Hite Prime             -0.350781\n",
      "Thunder                -0.351562\n",
      "Coopers Light Beer     -0.408750\n",
      "dtype: float64\n"
     ]
    },
    {
     "name": "stderr",
     "output_type": "stream",
     "text": [
      "/Users/alonavarshal/anaconda/lib/python2.7/site-packages/ipykernel/__main__.py:3: FutureWarning: sort is deprecated, use sort_values(inplace=True) for INPLACE sorting\n",
      "  app.launch_new_instance()\n"
     ]
    }
   ],
   "source": [
    "top = 5\n",
    "favorite_beers = list(my_reviews[my_reviews > 4].index)\n",
    "pred = sim[favorite_beers].mean(axis=1).dropna().sort(ascending=False, inplace=False)\n",
    "pred_name = pd.Series(pred.values, beer_names[pred.index], name=pred.name)\n",
    "print \"Top recommendations for %s\" % user\n",
    "print pred_name.head()\n",
    "print \"\\nBottom  recommendations (don't drink these, %s!)\" % user\n",
    "print pred_name.tail()"
   ]
  },
  {
   "cell_type": "markdown",
   "metadata": {},
   "source": [
    "These seem to correspond pretty well with his actual scores."
   ]
  },
  {
   "cell_type": "code",
   "execution_count": 68,
   "metadata": {},
   "outputs": [
    {
     "data": {
      "image/png": "[encoded data removed]",
      "text/plain": [
       "<matplotlib.figure.Figure at 0x118564e50>"
      ]
     },
     "metadata": {},
     "output_type": "display_data"
    }
   ],
   "source": [
    "f = sb.regplot(my_reviews, pred[list(my_reviews.index)], scatter_kws=dict(alpha=.4))"
   ]
  },
  {
   "cell_type": "markdown",
   "metadata": {},
   "source": [
    "### Model-based collaborative filtering\n",
    "\n",
    "In _model-based collaborative filtering_ we will estimate parameters for both items and users simultaneously.  This apporach is considered to be the state of the art and gets generally the highest prediction accuracy.\n",
    "\n",
    "The most popular model-based CF techniques use matrix decomposition techniques to find deeper structure in the ratings data.  For example, we could decompose the ratings matrix via SVD to reduce the dimensionality and extract latent variables. \n",
    "\n",
    "Once we identify the latent variables in the ratings matrix, we can express both users and items in terms of these latent variables.  As before, values in the item vectors represent the degree to which an item exhibits a given feature, and values in the user vectors represent user preferences for a given feature.  Ratings are constructed by taking dot products of user & item vectors in the latent feature space."
   ]
  },
  {
   "cell_type": "markdown",
   "metadata": {},
   "source": [
    "#### SVD-based models"
   ]
  },
  {
   "cell_type": "code",
   "execution_count": 69,
   "metadata": {
    "collapsed": true
   },
   "outputs": [],
   "source": [
    "from sklearn.decomposition import TruncatedSVD\n",
    "from sklearn.pipeline import make_pipeline\n",
    "from sklearn.preprocessing import Normalizer"
   ]
  },
  {
   "cell_type": "code",
   "execution_count": 70,
   "metadata": {},
   "outputs": [
    {
     "name": "stdout",
     "output_type": "stream",
     "text": [
      "Explained variance of the SVD step: 57%\n",
      "Dimensions feature matrix (old): (13964, 6420)\n",
      "Dimensions feature matrix (new): (13964, 75)\n",
      "CPU times: user 23.7 s, sys: 657 ms, total: 24.3 s\n",
      "Wall time: 13.2 s\n"
     ]
    }
   ],
   "source": [
    "%%time\n",
    "n_components = 75  # 200   # number of beer classes\n",
    "svd = TruncatedSVD(n_components)\n",
    "X_red = svd.fit_transform(M.T)\n",
    "explained_variance = svd.explained_variance_ratio_.sum()\n",
    "print \"Explained variance of the SVD step: %d%%\" % (explained_variance * 100)\n",
    "print \"Dimensions feature matrix (old):\", M.T.shape\n",
    "print \"Dimensions feature matrix (new):\", X_red.shape"
   ]
  },
  {
   "cell_type": "code",
   "execution_count": 71,
   "metadata": {},
   "outputs": [
    {
     "data": {
      "image/png": "[encoded data removed]",
      "text/plain": [
       "<matplotlib.figure.Figure at 0x1182d50d0>"
      ]
     },
     "metadata": {},
     "output_type": "display_data"
    }
   ],
   "source": [
    "plt.plot(svd.explained_variance_ratio_.cumsum())\n",
    "f = plt.ylim(0,1)"
   ]
  },
  {
   "cell_type": "code",
   "execution_count": 72,
   "metadata": {},
   "outputs": [
    {
     "name": "stderr",
     "output_type": "stream",
     "text": [
      "/Users/alonavarshal/anaconda/lib/python2.7/site-packages/ipykernel/__main__.py:8: FutureWarning: sort is deprecated, use sort_values(inplace=True) for INPLACE sorting\n"
     ]
    },
    {
     "data": {
      "image/png": "[encoded data removed]",
      "text/plain": [
       "<matplotlib.figure.Figure at 0x1199a76d0>"
      ]
     },
     "metadata": {},
     "output_type": "display_data"
    }
   ],
   "source": [
    "beers = M.index\n",
    "top_beers = 10\n",
    "n_rows, n_cols = 2, 3\n",
    "top_components = n_rows * n_cols\n",
    "f, axes = plt.subplots(n_rows, n_cols, figsize=(20, n_rows * 3))\n",
    "for no, component in enumerate(svd.components_[:top_components]):\n",
    "    ax = axes[no / n_cols][no % n_cols]\n",
    "    s = pd.Series(svd.components_[no], index=beer_names[beers].values).sort(inplace=False)[-top_beers:]\n",
    "    s.plot(kind='barh', ax=ax, title=\"Component %d\\nexplained variance %4.1f\" % \n",
    "           (no, 100 * svd.explained_variance_ratio_[no]))\n",
    "f = plt.tight_layout()"
   ]
  },
  {
   "cell_type": "code",
   "execution_count": 73,
   "metadata": {},
   "outputs": [
    {
     "name": "stderr",
     "output_type": "stream",
     "text": [
      "/Users/alonavarshal/anaconda/lib/python2.7/site-packages/ipykernel/__main__.py:3: FutureWarning: sort is deprecated, use sort_values(inplace=True) for INPLACE sorting\n",
      "  app.launch_new_instance()\n"
     ]
    },
    {
     "data": {
      "image/png": "[encoded data removed]",
      "text/plain": [
       "<matplotlib.figure.Figure at 0x1182ddd50>"
      ]
     },
     "metadata": {},
     "output_type": "display_data"
    }
   ],
   "source": [
    "userid = list(M.columns).index(user)\n",
    "recs = pd.Series(X_red[userid])\n",
    "f = recs.sort(inplace=False)[-10:].plot(\n",
    "    kind='barh', title='Top recommended categories for %s' % user)"
   ]
  },
  {
   "cell_type": "code",
   "execution_count": 74,
   "metadata": {},
   "outputs": [
    {
     "name": "stdout",
     "output_type": "stream",
     "text": [
      "Beers from top recommended category for WesWes: Founders Imperial Stout, Northern Hemisphere Harvest Wet Hop Ale, Founders Centennial IPA, Founders Red's Rye PA, Sierra Nevada Torpedo Extra IPA, Sierra Nevada Bigfoot Barleywine Style Ale, Sierra Nevada Pale Ale, Founders KBS (Kentucky Breakfast Stout), Sierra Nevada Celebration Ale, Founders Breakfast Stout\n"
     ]
    },
    {
     "name": "stderr",
     "output_type": "stream",
     "text": [
      "/Users/alonavarshal/anaconda/lib/python2.7/site-packages/ipykernel/__main__.py:3: FutureWarning: sort is deprecated, use sort_values(inplace=True) for INPLACE sorting\n",
      "  app.launch_new_instance()\n"
     ]
    }
   ],
   "source": [
    "beers_from_top_category = pd.Series(svd.components_[recs.argmax()], index=beer_names[beers].values)\n",
    "print \"Beers from top recommended category for %s:\" % user,\n",
    "print ', '.join(beers_from_top_category.sort(inplace=False)[-top_beers:].index)"
   ]
  },
  {
   "cell_type": "markdown",
   "metadata": {},
   "source": [
    "Take dot product again to get individual beers, recommended for user.  Note that beers are represented in different components, so this is really a different set than the one before."
   ]
  },
  {
   "cell_type": "code",
   "execution_count": 75,
   "metadata": {},
   "outputs": [
    {
     "name": "stdout",
     "output_type": "stream",
     "text": [
      "Beers recommended for WesWes: Founders Devil Dancer, Founders Double Trouble, Founders Blushing Monk, Northern Hemisphere Harvest Wet Hop Ale, 30th Anniversary - Grand Cru, Founders KBS (Kentucky Breakfast Stout), Founders CBS Imperial Stout, Estate Homegrown Wet Hop Ale, Stoudt's Double IPA (India Pale Ale), Black Tuesday\n"
     ]
    },
    {
     "name": "stderr",
     "output_type": "stream",
     "text": [
      "/Users/alonavarshal/anaconda/lib/python2.7/site-packages/ipykernel/__main__.py:4: FutureWarning: sort is deprecated, use sort_values(inplace=True) for INPLACE sorting\n"
     ]
    }
   ],
   "source": [
    "beer_recs = X_red[userid].dot(svd.components_)\n",
    "beer_recs = pd.Series(beer_recs, index=beer_names[beers].values)\n",
    "print \"Beers recommended for %s:\" % user,\n",
    "print ', '.join(beer_recs.sort(inplace=False)[-top_beers:].index)"
   ]
  },
  {
   "cell_type": "code",
   "execution_count": 76,
   "metadata": {},
   "outputs": [
    {
     "data": {
      "image/png": "[encoded data removed]",
      "text/plain": [
       "<matplotlib.figure.Figure at 0x11c41ebd0>"
      ]
     },
     "metadata": {},
     "output_type": "display_data"
    }
   ],
   "source": [
    "pred = pd.Series(recs.dot(svd.components_), index=beers)\n",
    "f = sb.regplot(my_reviews, pred[list(my_reviews.index)], scatter_kws=dict(alpha=.4))"
   ]
  },
  {
   "cell_type": "code",
   "execution_count": null,
   "metadata": {
    "collapsed": true
   },
   "outputs": [],
   "source": []
  },
  {
   "cell_type": "code",
   "execution_count": null,
   "metadata": {
    "collapsed": true
   },
   "outputs": [],
   "source": []
  }
 ],
 "metadata": {
  "anaconda-cloud": {},
  "kernelspec": {
   "display_name": "Python [default]",
   "language": "python",
   "name": "python2"
  },
  "language_info": {
   "codemirror_mode": {
    "name": "ipython",
    "version": 2
   },
   "file_extension": ".py",
   "mimetype": "text/x-python",
   "name": "python",
   "nbconvert_exporter": "python",
   "pygments_lexer": "ipython2",
   "version": "2.7.12"
  }
 },
 "nbformat": 4,
 "nbformat_minor": 1
}
